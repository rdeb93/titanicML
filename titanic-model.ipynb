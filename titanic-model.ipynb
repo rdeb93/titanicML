{
 "cells": [
  {
   "cell_type": "code",
   "execution_count": 1,
   "id": "3f767848",
   "metadata": {
    "_cell_guid": "b1076dfc-b9ad-4769-8c92-a6c4dae69d19",
    "_uuid": "8f2839f25d086af736a60e9eeb907d3b93b6e0e5",
    "execution": {
     "iopub.execute_input": "2024-12-14T07:33:11.398709Z",
     "iopub.status.busy": "2024-12-14T07:33:11.398334Z",
     "iopub.status.idle": "2024-12-14T07:33:12.278578Z",
     "shell.execute_reply": "2024-12-14T07:33:12.277422Z"
    },
    "papermill": {
     "duration": 0.888691,
     "end_time": "2024-12-14T07:33:12.281120",
     "exception": false,
     "start_time": "2024-12-14T07:33:11.392429",
     "status": "completed"
    },
    "tags": []
   },
   "outputs": [
    {
     "name": "stdout",
     "output_type": "stream",
     "text": [
      "/kaggle/input/titanic-dataset/train.csv\n",
      "/kaggle/input/titanic-dataset/test.csv\n",
      "/kaggle/input/titanic-dataset/gender_submission.csv\n"
     ]
    }
   ],
   "source": [
    "# This Python 3 environment comes with many helpful analytics libraries installed\n",
    "# It is defined by the kaggle/python Docker image: https://github.com/kaggle/docker-python\n",
    "# For example, here's several helpful packages to load\n",
    "\n",
    "import numpy as np # linear algebra\n",
    "import pandas as pd # data processing, CSV file I/O (e.g. pd.read_csv)\n",
    "\n",
    "# Input data files are available in the read-only \"../input/\" directory\n",
    "# For example, running this (by clicking run or pressing Shift+Enter) will list all files under the input directory\n",
    "\n",
    "import os\n",
    "for dirname, _, filenames in os.walk('/kaggle/input'):\n",
    "    for filename in filenames:\n",
    "        print(os.path.join(dirname, filename))\n",
    "\n",
    "# You can write up to 20GB to the current directory (/kaggle/working/) that gets preserved as output when you create a version using \"Save & Run All\" \n",
    "# You can also write temporary files to /kaggle/temp/, but they won't be saved outside of the current session"
   ]
  },
  {
   "cell_type": "code",
   "execution_count": 2,
   "id": "a5817d25",
   "metadata": {
    "execution": {
     "iopub.execute_input": "2024-12-14T07:33:12.290174Z",
     "iopub.status.busy": "2024-12-14T07:33:12.289646Z",
     "iopub.status.idle": "2024-12-14T07:33:14.179752Z",
     "shell.execute_reply": "2024-12-14T07:33:14.178555Z"
    },
    "papermill": {
     "duration": 1.897103,
     "end_time": "2024-12-14T07:33:14.182118",
     "exception": false,
     "start_time": "2024-12-14T07:33:12.285015",
     "status": "completed"
    },
    "tags": []
   },
   "outputs": [],
   "source": [
    "# Import DecisionTreeRegressor and OrdinalEncoder\n",
    "from sklearn.ensemble import RandomForestClassifier\n",
    "from sklearn.preprocessing import LabelEncoder\n",
    "from sklearn.metrics import mean_absolute_error"
   ]
  },
  {
   "cell_type": "code",
   "execution_count": 3,
   "id": "ce4dd3d4",
   "metadata": {
    "execution": {
     "iopub.execute_input": "2024-12-14T07:33:14.192400Z",
     "iopub.status.busy": "2024-12-14T07:33:14.191578Z",
     "iopub.status.idle": "2024-12-14T07:33:14.220215Z",
     "shell.execute_reply": "2024-12-14T07:33:14.219210Z"
    },
    "papermill": {
     "duration": 0.036089,
     "end_time": "2024-12-14T07:33:14.222667",
     "exception": false,
     "start_time": "2024-12-14T07:33:14.186578",
     "status": "completed"
    },
    "tags": []
   },
   "outputs": [],
   "source": [
    "# Specify the test file path \n",
    "titanic_train_file_path = '../input/titanic-dataset/train.csv'\n",
    "\n",
    "# Specify the validation file path\n",
    "titanic_validation_file_path = '../input/titanic-dataset/test.csv'\n",
    "\n",
    "# Read the .csv files\n",
    "train_titanic_data = pd.read_csv(titanic_train_file_path)\n",
    "\n",
    "validation_titanic_data = pd.read_csv(titanic_validation_file_path)"
   ]
  },
  {
   "cell_type": "code",
   "execution_count": 4,
   "id": "5c6a7e8d",
   "metadata": {
    "execution": {
     "iopub.execute_input": "2024-12-14T07:33:14.231493Z",
     "iopub.status.busy": "2024-12-14T07:33:14.231120Z",
     "iopub.status.idle": "2024-12-14T07:33:14.239530Z",
     "shell.execute_reply": "2024-12-14T07:33:14.238431Z"
    },
    "papermill": {
     "duration": 0.015409,
     "end_time": "2024-12-14T07:33:14.241747",
     "exception": false,
     "start_time": "2024-12-14T07:33:14.226338",
     "status": "completed"
    },
    "tags": []
   },
   "outputs": [],
   "source": [
    "# Set up the target variable (Survived)\n",
    "target_variable = train_titanic_data.Survived"
   ]
  },
  {
   "cell_type": "code",
   "execution_count": 5,
   "id": "ef6ae415",
   "metadata": {
    "execution": {
     "iopub.execute_input": "2024-12-14T07:33:14.250551Z",
     "iopub.status.busy": "2024-12-14T07:33:14.250170Z",
     "iopub.status.idle": "2024-12-14T07:33:14.257982Z",
     "shell.execute_reply": "2024-12-14T07:33:14.256854Z"
    },
    "papermill": {
     "duration": 0.014969,
     "end_time": "2024-12-14T07:33:14.260348",
     "exception": false,
     "start_time": "2024-12-14T07:33:14.245379",
     "status": "completed"
    },
    "tags": []
   },
   "outputs": [],
   "source": [
    "# Convert 'Sex' column to numerical data\n",
    "\n",
    "# Initialise the encoder\n",
    "\n",
    "encoder = LabelEncoder()\n",
    "\n",
    "# Apply the encoder to the 'Sex' column of the training dataset\n",
    "train_titanic_data['Sex'] = encoder.fit_transform(train_titanic_data['Sex'])\n",
    "\n",
    "# Apply the encoder to the 'Sex' column of the validation dataset\n",
    "validation_titanic_data['Sex'] = encoder.fit_transform(validation_titanic_data['Sex'])"
   ]
  },
  {
   "cell_type": "code",
   "execution_count": 6,
   "id": "c0ded442",
   "metadata": {
    "execution": {
     "iopub.execute_input": "2024-12-14T07:33:14.269204Z",
     "iopub.status.busy": "2024-12-14T07:33:14.268814Z",
     "iopub.status.idle": "2024-12-14T07:33:14.301917Z",
     "shell.execute_reply": "2024-12-14T07:33:14.300763Z"
    },
    "papermill": {
     "duration": 0.040361,
     "end_time": "2024-12-14T07:33:14.304351",
     "exception": false,
     "start_time": "2024-12-14T07:33:14.263990",
     "status": "completed"
    },
    "tags": []
   },
   "outputs": [],
   "source": [
    "# Replace 'NaN' values in the 'Age' column\n",
    "\n",
    "# Compute the mean age for each passenger class for the training dataset\n",
    "mean_age_train = train_titanic_data.groupby('Pclass')['Age'].mean()\n",
    "\n",
    "# Compute the mean age for each passenger class for the validation dataset\n",
    "mean_age_validation = validation_titanic_data.groupby('Pclass')['Age'].mean()\n",
    "\n",
    "# Replace 'NaN' values by the mean computed above, depending on passenger class in the training dataset\n",
    "train_titanic_data['Age'] = train_titanic_data.apply(\n",
    "    lambda row: mean_age_train[row['Pclass']] if pd.isna(row['Age']) else row['Age'], axis = 1)\n",
    "\n",
    "# Replace 'NaN' values by the mean computed above, depending on passenger class in the validation dataset\n",
    "validation_titanic_data['Age'] = validation_titanic_data.apply(\n",
    "    lambda row: mean_age_validation[row['Pclass']] if pd.isna(row['Age']) else row['Age'], axis = 1)"
   ]
  },
  {
   "cell_type": "code",
   "execution_count": 7,
   "id": "b352a70b",
   "metadata": {
    "execution": {
     "iopub.execute_input": "2024-12-14T07:33:14.313504Z",
     "iopub.status.busy": "2024-12-14T07:33:14.313108Z",
     "iopub.status.idle": "2024-12-14T07:33:14.318024Z",
     "shell.execute_reply": "2024-12-14T07:33:14.316949Z"
    },
    "papermill": {
     "duration": 0.013167,
     "end_time": "2024-12-14T07:33:14.321304",
     "exception": false,
     "start_time": "2024-12-14T07:33:14.308137",
     "status": "completed"
    },
    "tags": []
   },
   "outputs": [],
   "source": [
    "# Set up the features\n",
    "features = ['Pclass', 'Sex', 'Age', 'SibSp', 'Parch']"
   ]
  },
  {
   "cell_type": "code",
   "execution_count": 8,
   "id": "d68aeb7e",
   "metadata": {
    "execution": {
     "iopub.execute_input": "2024-12-14T07:33:14.331584Z",
     "iopub.status.busy": "2024-12-14T07:33:14.331199Z",
     "iopub.status.idle": "2024-12-14T07:33:14.340417Z",
     "shell.execute_reply": "2024-12-14T07:33:14.339236Z"
    },
    "papermill": {
     "duration": 0.016607,
     "end_time": "2024-12-14T07:33:14.342866",
     "exception": false,
     "start_time": "2024-12-14T07:33:14.326259",
     "status": "completed"
    },
    "tags": []
   },
   "outputs": [],
   "source": [
    "# Set up the independent variable\n",
    "independent_variable = train_titanic_data[features]"
   ]
  },
  {
   "cell_type": "code",
   "execution_count": 9,
   "id": "d23b9ba7",
   "metadata": {
    "execution": {
     "iopub.execute_input": "2024-12-14T07:33:14.351775Z",
     "iopub.status.busy": "2024-12-14T07:33:14.351274Z",
     "iopub.status.idle": "2024-12-14T07:33:14.356432Z",
     "shell.execute_reply": "2024-12-14T07:33:14.355335Z"
    },
    "papermill": {
     "duration": 0.012062,
     "end_time": "2024-12-14T07:33:14.358551",
     "exception": false,
     "start_time": "2024-12-14T07:33:14.346489",
     "status": "completed"
    },
    "tags": []
   },
   "outputs": [],
   "source": [
    "# Specify the model and set the random seed to get the same results every run\n",
    "titanic_model = RandomForestClassifier(n_estimators = 50, max_depth = 5)"
   ]
  },
  {
   "cell_type": "code",
   "execution_count": 10,
   "id": "f1f9389a",
   "metadata": {
    "execution": {
     "iopub.execute_input": "2024-12-14T07:33:14.367630Z",
     "iopub.status.busy": "2024-12-14T07:33:14.367232Z",
     "iopub.status.idle": "2024-12-14T07:33:14.472314Z",
     "shell.execute_reply": "2024-12-14T07:33:14.471261Z"
    },
    "papermill": {
     "duration": 0.112497,
     "end_time": "2024-12-14T07:33:14.474769",
     "exception": false,
     "start_time": "2024-12-14T07:33:14.362272",
     "status": "completed"
    },
    "tags": []
   },
   "outputs": [
    {
     "data": {
      "text/html": [
       "<style>#sk-container-id-1 {color: black;background-color: white;}#sk-container-id-1 pre{padding: 0;}#sk-container-id-1 div.sk-toggleable {background-color: white;}#sk-container-id-1 label.sk-toggleable__label {cursor: pointer;display: block;width: 100%;margin-bottom: 0;padding: 0.3em;box-sizing: border-box;text-align: center;}#sk-container-id-1 label.sk-toggleable__label-arrow:before {content: \"▸\";float: left;margin-right: 0.25em;color: #696969;}#sk-container-id-1 label.sk-toggleable__label-arrow:hover:before {color: black;}#sk-container-id-1 div.sk-estimator:hover label.sk-toggleable__label-arrow:before {color: black;}#sk-container-id-1 div.sk-toggleable__content {max-height: 0;max-width: 0;overflow: hidden;text-align: left;background-color: #f0f8ff;}#sk-container-id-1 div.sk-toggleable__content pre {margin: 0.2em;color: black;border-radius: 0.25em;background-color: #f0f8ff;}#sk-container-id-1 input.sk-toggleable__control:checked~div.sk-toggleable__content {max-height: 200px;max-width: 100%;overflow: auto;}#sk-container-id-1 input.sk-toggleable__control:checked~label.sk-toggleable__label-arrow:before {content: \"▾\";}#sk-container-id-1 div.sk-estimator input.sk-toggleable__control:checked~label.sk-toggleable__label {background-color: #d4ebff;}#sk-container-id-1 div.sk-label input.sk-toggleable__control:checked~label.sk-toggleable__label {background-color: #d4ebff;}#sk-container-id-1 input.sk-hidden--visually {border: 0;clip: rect(1px 1px 1px 1px);clip: rect(1px, 1px, 1px, 1px);height: 1px;margin: -1px;overflow: hidden;padding: 0;position: absolute;width: 1px;}#sk-container-id-1 div.sk-estimator {font-family: monospace;background-color: #f0f8ff;border: 1px dotted black;border-radius: 0.25em;box-sizing: border-box;margin-bottom: 0.5em;}#sk-container-id-1 div.sk-estimator:hover {background-color: #d4ebff;}#sk-container-id-1 div.sk-parallel-item::after {content: \"\";width: 100%;border-bottom: 1px solid gray;flex-grow: 1;}#sk-container-id-1 div.sk-label:hover label.sk-toggleable__label {background-color: #d4ebff;}#sk-container-id-1 div.sk-serial::before {content: \"\";position: absolute;border-left: 1px solid gray;box-sizing: border-box;top: 0;bottom: 0;left: 50%;z-index: 0;}#sk-container-id-1 div.sk-serial {display: flex;flex-direction: column;align-items: center;background-color: white;padding-right: 0.2em;padding-left: 0.2em;position: relative;}#sk-container-id-1 div.sk-item {position: relative;z-index: 1;}#sk-container-id-1 div.sk-parallel {display: flex;align-items: stretch;justify-content: center;background-color: white;position: relative;}#sk-container-id-1 div.sk-item::before, #sk-container-id-1 div.sk-parallel-item::before {content: \"\";position: absolute;border-left: 1px solid gray;box-sizing: border-box;top: 0;bottom: 0;left: 50%;z-index: -1;}#sk-container-id-1 div.sk-parallel-item {display: flex;flex-direction: column;z-index: 1;position: relative;background-color: white;}#sk-container-id-1 div.sk-parallel-item:first-child::after {align-self: flex-end;width: 50%;}#sk-container-id-1 div.sk-parallel-item:last-child::after {align-self: flex-start;width: 50%;}#sk-container-id-1 div.sk-parallel-item:only-child::after {width: 0;}#sk-container-id-1 div.sk-dashed-wrapped {border: 1px dashed gray;margin: 0 0.4em 0.5em 0.4em;box-sizing: border-box;padding-bottom: 0.4em;background-color: white;}#sk-container-id-1 div.sk-label label {font-family: monospace;font-weight: bold;display: inline-block;line-height: 1.2em;}#sk-container-id-1 div.sk-label-container {text-align: center;}#sk-container-id-1 div.sk-container {/* jupyter's `normalize.less` sets `[hidden] { display: none; }` but bootstrap.min.css set `[hidden] { display: none !important; }` so we also need the `!important` here to be able to override the default hidden behavior on the sphinx rendered scikit-learn.org. See: https://github.com/scikit-learn/scikit-learn/issues/21755 */display: inline-block !important;position: relative;}#sk-container-id-1 div.sk-text-repr-fallback {display: none;}</style><div id=\"sk-container-id-1\" class=\"sk-top-container\"><div class=\"sk-text-repr-fallback\"><pre>RandomForestClassifier(max_depth=5, n_estimators=50)</pre><b>In a Jupyter environment, please rerun this cell to show the HTML representation or trust the notebook. <br />On GitHub, the HTML representation is unable to render, please try loading this page with nbviewer.org.</b></div><div class=\"sk-container\" hidden><div class=\"sk-item\"><div class=\"sk-estimator sk-toggleable\"><input class=\"sk-toggleable__control sk-hidden--visually\" id=\"sk-estimator-id-1\" type=\"checkbox\" checked><label for=\"sk-estimator-id-1\" class=\"sk-toggleable__label sk-toggleable__label-arrow\">RandomForestClassifier</label><div class=\"sk-toggleable__content\"><pre>RandomForestClassifier(max_depth=5, n_estimators=50)</pre></div></div></div></div></div>"
      ],
      "text/plain": [
       "RandomForestClassifier(max_depth=5, n_estimators=50)"
      ]
     },
     "execution_count": 10,
     "metadata": {},
     "output_type": "execute_result"
    }
   ],
   "source": [
    "# Fit the model\n",
    "titanic_model.fit(independent_variable, target_variable)"
   ]
  },
  {
   "cell_type": "code",
   "execution_count": 11,
   "id": "d4a95bec",
   "metadata": {
    "execution": {
     "iopub.execute_input": "2024-12-14T07:33:14.484127Z",
     "iopub.status.busy": "2024-12-14T07:33:14.483463Z",
     "iopub.status.idle": "2024-12-14T07:33:14.499123Z",
     "shell.execute_reply": "2024-12-14T07:33:14.497947Z"
    },
    "papermill": {
     "duration": 0.02329,
     "end_time": "2024-12-14T07:33:14.501890",
     "exception": false,
     "start_time": "2024-12-14T07:33:14.478600",
     "status": "completed"
    },
    "tags": []
   },
   "outputs": [],
   "source": [
    "# Predict survivability\n",
    "prediction = titanic_model.predict(independent_variable)"
   ]
  },
  {
   "cell_type": "code",
   "execution_count": 12,
   "id": "cba1d3a7",
   "metadata": {
    "execution": {
     "iopub.execute_input": "2024-12-14T07:33:14.511429Z",
     "iopub.status.busy": "2024-12-14T07:33:14.511073Z",
     "iopub.status.idle": "2024-12-14T07:33:14.516872Z",
     "shell.execute_reply": "2024-12-14T07:33:14.515774Z"
    },
    "papermill": {
     "duration": 0.013333,
     "end_time": "2024-12-14T07:33:14.519148",
     "exception": false,
     "start_time": "2024-12-14T07:33:14.505815",
     "status": "completed"
    },
    "tags": []
   },
   "outputs": [],
   "source": [
    "# Set up the independent variable for the test dataset\n",
    "test_independent_variable = validation_titanic_data[features]"
   ]
  },
  {
   "cell_type": "code",
   "execution_count": 13,
   "id": "74a469db",
   "metadata": {
    "execution": {
     "iopub.execute_input": "2024-12-14T07:33:14.528412Z",
     "iopub.status.busy": "2024-12-14T07:33:14.528042Z",
     "iopub.status.idle": "2024-12-14T07:33:14.540632Z",
     "shell.execute_reply": "2024-12-14T07:33:14.539509Z"
    },
    "papermill": {
     "duration": 0.020086,
     "end_time": "2024-12-14T07:33:14.543163",
     "exception": false,
     "start_time": "2024-12-14T07:33:14.523077",
     "status": "completed"
    },
    "tags": []
   },
   "outputs": [],
   "source": [
    "# Make a prediction for survivability on the validation data\n",
    "validation_prediction = titanic_model.predict(test_independent_variable)\n",
    "\n",
    "validation_prediction = validation_prediction.round(0).astype(int)"
   ]
  },
  {
   "cell_type": "code",
   "execution_count": 14,
   "id": "ab5c8d16",
   "metadata": {
    "execution": {
     "iopub.execute_input": "2024-12-14T07:33:14.552709Z",
     "iopub.status.busy": "2024-12-14T07:33:14.551885Z",
     "iopub.status.idle": "2024-12-14T07:33:14.561576Z",
     "shell.execute_reply": "2024-12-14T07:33:14.560350Z"
    },
    "papermill": {
     "duration": 0.016905,
     "end_time": "2024-12-14T07:33:14.563898",
     "exception": false,
     "start_time": "2024-12-14T07:33:14.546993",
     "status": "completed"
    },
    "tags": []
   },
   "outputs": [
    {
     "name": "stdout",
     "output_type": "stream",
     "text": [
      "Your submission was successfully saved!\n"
     ]
    }
   ],
   "source": [
    "output = pd.DataFrame({'PassengerId': validation_titanic_data.PassengerId, 'Survived': validation_prediction})\n",
    "output.to_csv('submission.csv', index = False)\n",
    "print(\"Your submission was successfully saved!\")"
   ]
  }
 ],
 "metadata": {
  "kaggle": {
   "accelerator": "none",
   "dataSources": [
    {
     "datasetId": 6249347,
     "sourceId": 10126863,
     "sourceType": "datasetVersion"
    }
   ],
   "dockerImageVersionId": 30804,
   "isGpuEnabled": false,
   "isInternetEnabled": true,
   "language": "python",
   "sourceType": "notebook"
  },
  "kernelspec": {
   "display_name": "Python 3",
   "language": "python",
   "name": "python3"
  },
  "language_info": {
   "codemirror_mode": {
    "name": "ipython",
    "version": 3
   },
   "file_extension": ".py",
   "mimetype": "text/x-python",
   "name": "python",
   "nbconvert_exporter": "python",
   "pygments_lexer": "ipython3",
   "version": "3.10.14"
  },
  "papermill": {
   "default_parameters": {},
   "duration": 6.448231,
   "end_time": "2024-12-14T07:33:15.188685",
   "environment_variables": {},
   "exception": null,
   "input_path": "__notebook__.ipynb",
   "output_path": "__notebook__.ipynb",
   "parameters": {},
   "start_time": "2024-12-14T07:33:08.740454",
   "version": "2.6.0"
  }
 },
 "nbformat": 4,
 "nbformat_minor": 5
}
