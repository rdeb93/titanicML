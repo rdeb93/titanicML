{
 "cells": [
  {
   "cell_type": "code",
   "execution_count": 1,
   "id": "1074bbc8",
   "metadata": {
    "_cell_guid": "b1076dfc-b9ad-4769-8c92-a6c4dae69d19",
    "_uuid": "8f2839f25d086af736a60e9eeb907d3b93b6e0e5",
    "execution": {
     "iopub.execute_input": "2024-12-08T09:08:31.863370Z",
     "iopub.status.busy": "2024-12-08T09:08:31.862845Z",
     "iopub.status.idle": "2024-12-08T09:08:32.909988Z",
     "shell.execute_reply": "2024-12-08T09:08:32.908781Z"
    },
    "papermill": {
     "duration": 1.057366,
     "end_time": "2024-12-08T09:08:32.912909",
     "exception": false,
     "start_time": "2024-12-08T09:08:31.855543",
     "status": "completed"
    },
    "tags": []
   },
   "outputs": [
    {
     "name": "stdout",
     "output_type": "stream",
     "text": [
      "/kaggle/input/titanic-dataset/train.csv\n",
      "/kaggle/input/titanic-dataset/test.csv\n",
      "/kaggle/input/titanic-dataset/gender_submission.csv\n"
     ]
    }
   ],
   "source": [
    "# This Python 3 environment comes with many helpful analytics libraries installed\n",
    "# It is defined by the kaggle/python Docker image: https://github.com/kaggle/docker-python\n",
    "# For example, here's several helpful packages to load\n",
    "\n",
    "import numpy as np # linear algebra\n",
    "import pandas as pd # data processing, CSV file I/O (e.g. pd.read_csv)\n",
    "\n",
    "# Input data files are available in the read-only \"../input/\" directory\n",
    "# For example, running this (by clicking run or pressing Shift+Enter) will list all files under the input directory\n",
    "\n",
    "import os\n",
    "for dirname, _, filenames in os.walk('/kaggle/input'):\n",
    "    for filename in filenames:\n",
    "        print(os.path.join(dirname, filename))\n",
    "\n",
    "# You can write up to 20GB to the current directory (/kaggle/working/) that gets preserved as output when you create a version using \"Save & Run All\" \n",
    "# You can also write temporary files to /kaggle/temp/, but they won't be saved outside of the current session"
   ]
  },
  {
   "cell_type": "code",
   "execution_count": 2,
   "id": "acee5d54",
   "metadata": {
    "execution": {
     "iopub.execute_input": "2024-12-08T09:08:32.922469Z",
     "iopub.status.busy": "2024-12-08T09:08:32.921877Z",
     "iopub.status.idle": "2024-12-08T09:08:34.815639Z",
     "shell.execute_reply": "2024-12-08T09:08:34.814419Z"
    },
    "papermill": {
     "duration": 1.901262,
     "end_time": "2024-12-08T09:08:34.818131",
     "exception": false,
     "start_time": "2024-12-08T09:08:32.916869",
     "status": "completed"
    },
    "tags": []
   },
   "outputs": [],
   "source": [
    "# Import DecisionTreeRegressor and OrdinalEncoder\n",
    "from sklearn.tree import DecisionTreeRegressor\n",
    "from sklearn.preprocessing import LabelEncoder\n",
    "from sklearn.metrics import mean_absolute_error"
   ]
  },
  {
   "cell_type": "code",
   "execution_count": 3,
   "id": "66ce9018",
   "metadata": {
    "execution": {
     "iopub.execute_input": "2024-12-08T09:08:34.828042Z",
     "iopub.status.busy": "2024-12-08T09:08:34.827514Z",
     "iopub.status.idle": "2024-12-08T09:08:34.856623Z",
     "shell.execute_reply": "2024-12-08T09:08:34.855528Z"
    },
    "papermill": {
     "duration": 0.036971,
     "end_time": "2024-12-08T09:08:34.859329",
     "exception": false,
     "start_time": "2024-12-08T09:08:34.822358",
     "status": "completed"
    },
    "tags": []
   },
   "outputs": [],
   "source": [
    "# Specify the test file path \n",
    "titanic_train_file_path = '../input/titanic-dataset/train.csv'\n",
    "\n",
    "# Specify the validation file path\n",
    "titanic_validation_file_path = '../input/titanic-dataset/test.csv'\n",
    "\n",
    "# Read the .csv files\n",
    "train_titanic_data = pd.read_csv(titanic_train_file_path)\n",
    "\n",
    "validation_titanic_data = pd.read_csv(titanic_validation_file_path)"
   ]
  },
  {
   "cell_type": "code",
   "execution_count": 4,
   "id": "0c81e0c1",
   "metadata": {
    "execution": {
     "iopub.execute_input": "2024-12-08T09:08:34.868320Z",
     "iopub.status.busy": "2024-12-08T09:08:34.867878Z",
     "iopub.status.idle": "2024-12-08T09:08:34.878493Z",
     "shell.execute_reply": "2024-12-08T09:08:34.877199Z"
    },
    "papermill": {
     "duration": 0.01778,
     "end_time": "2024-12-08T09:08:34.880749",
     "exception": false,
     "start_time": "2024-12-08T09:08:34.862969",
     "status": "completed"
    },
    "tags": []
   },
   "outputs": [],
   "source": [
    "# Set up the target variable (Survived)\n",
    "target_variable = train_titanic_data.Survived"
   ]
  },
  {
   "cell_type": "code",
   "execution_count": 5,
   "id": "7d4d93cb",
   "metadata": {
    "execution": {
     "iopub.execute_input": "2024-12-08T09:08:34.889759Z",
     "iopub.status.busy": "2024-12-08T09:08:34.889365Z",
     "iopub.status.idle": "2024-12-08T09:08:34.897033Z",
     "shell.execute_reply": "2024-12-08T09:08:34.895848Z"
    },
    "papermill": {
     "duration": 0.014868,
     "end_time": "2024-12-08T09:08:34.899227",
     "exception": false,
     "start_time": "2024-12-08T09:08:34.884359",
     "status": "completed"
    },
    "tags": []
   },
   "outputs": [],
   "source": [
    "# Convert 'Sex' column to numerical data\n",
    "\n",
    "# Initialise the encoder\n",
    "\n",
    "encoder = LabelEncoder()\n",
    "\n",
    "# Apply the encoder to the 'Sex' column of the training dataset\n",
    "train_titanic_data['Sex'] = encoder.fit_transform(train_titanic_data['Sex'])\n",
    "\n",
    "# Apply the encoder to the 'Sex' column of the validation dataset\n",
    "validation_titanic_data['Sex'] = encoder.fit_transform(validation_titanic_data['Sex'])"
   ]
  },
  {
   "cell_type": "code",
   "execution_count": 6,
   "id": "86a3cff6",
   "metadata": {
    "execution": {
     "iopub.execute_input": "2024-12-08T09:08:34.908580Z",
     "iopub.status.busy": "2024-12-08T09:08:34.908134Z",
     "iopub.status.idle": "2024-12-08T09:08:34.944521Z",
     "shell.execute_reply": "2024-12-08T09:08:34.943346Z"
    },
    "papermill": {
     "duration": 0.044154,
     "end_time": "2024-12-08T09:08:34.947137",
     "exception": false,
     "start_time": "2024-12-08T09:08:34.902983",
     "status": "completed"
    },
    "tags": []
   },
   "outputs": [],
   "source": [
    "# Replace 'NaN' values in the 'Age' column\n",
    "\n",
    "# Compute the mean age for each passenger class for the training dataset\n",
    "mean_age_train = train_titanic_data.groupby('Pclass')['Age'].mean()\n",
    "\n",
    "# Compute the mean age for each passenger class for the validation dataset\n",
    "mean_age_validation = validation_titanic_data.groupby('Pclass')['Age'].mean()\n",
    "\n",
    "# Replace 'NaN' values by the mean computed above, depending on passenger class in the training dataset\n",
    "train_titanic_data['Age'] = train_titanic_data.apply(\n",
    "    lambda row: mean_age_train[row['Pclass']] if pd.isna(row['Age']) else row['Age'], axis = 1)\n",
    "\n",
    "# Replace 'NaN' values by the mean computed above, depending on passenger class in the validation dataset\n",
    "validation_titanic_data['Age'] = validation_titanic_data.apply(\n",
    "    lambda row: mean_age_validation[row['Pclass']] if pd.isna(row['Age']) else row['Age'], axis = 1)"
   ]
  },
  {
   "cell_type": "code",
   "execution_count": 7,
   "id": "b6c8f3a3",
   "metadata": {
    "execution": {
     "iopub.execute_input": "2024-12-08T09:08:34.956527Z",
     "iopub.status.busy": "2024-12-08T09:08:34.956103Z",
     "iopub.status.idle": "2024-12-08T09:08:34.960973Z",
     "shell.execute_reply": "2024-12-08T09:08:34.959790Z"
    },
    "papermill": {
     "duration": 0.012126,
     "end_time": "2024-12-08T09:08:34.963321",
     "exception": false,
     "start_time": "2024-12-08T09:08:34.951195",
     "status": "completed"
    },
    "tags": []
   },
   "outputs": [],
   "source": [
    "# Set up the features\n",
    "features = ['Pclass', 'Sex', 'Age']"
   ]
  },
  {
   "cell_type": "code",
   "execution_count": 8,
   "id": "8a0a31f3",
   "metadata": {
    "execution": {
     "iopub.execute_input": "2024-12-08T09:08:34.973345Z",
     "iopub.status.busy": "2024-12-08T09:08:34.972947Z",
     "iopub.status.idle": "2024-12-08T09:08:34.982607Z",
     "shell.execute_reply": "2024-12-08T09:08:34.981347Z"
    },
    "papermill": {
     "duration": 0.01665,
     "end_time": "2024-12-08T09:08:34.984843",
     "exception": false,
     "start_time": "2024-12-08T09:08:34.968193",
     "status": "completed"
    },
    "tags": []
   },
   "outputs": [],
   "source": [
    "# Set up the independent variable\n",
    "independent_variable = train_titanic_data[features]"
   ]
  },
  {
   "cell_type": "code",
   "execution_count": 9,
   "id": "421672c4",
   "metadata": {
    "execution": {
     "iopub.execute_input": "2024-12-08T09:08:34.994403Z",
     "iopub.status.busy": "2024-12-08T09:08:34.993400Z",
     "iopub.status.idle": "2024-12-08T09:08:34.998348Z",
     "shell.execute_reply": "2024-12-08T09:08:34.997374Z"
    },
    "papermill": {
     "duration": 0.011855,
     "end_time": "2024-12-08T09:08:35.000376",
     "exception": false,
     "start_time": "2024-12-08T09:08:34.988521",
     "status": "completed"
    },
    "tags": []
   },
   "outputs": [],
   "source": [
    "# Specify the model and set the random seed to get the same results every run\n",
    "titanic_model = DecisionTreeRegressor(random_state = 0)"
   ]
  },
  {
   "cell_type": "code",
   "execution_count": 10,
   "id": "6739aaa9",
   "metadata": {
    "execution": {
     "iopub.execute_input": "2024-12-08T09:08:35.009311Z",
     "iopub.status.busy": "2024-12-08T09:08:35.008894Z",
     "iopub.status.idle": "2024-12-08T09:08:35.025454Z",
     "shell.execute_reply": "2024-12-08T09:08:35.024384Z"
    },
    "papermill": {
     "duration": 0.023611,
     "end_time": "2024-12-08T09:08:35.027715",
     "exception": false,
     "start_time": "2024-12-08T09:08:35.004104",
     "status": "completed"
    },
    "tags": []
   },
   "outputs": [
    {
     "data": {
      "text/html": [
       "<style>#sk-container-id-1 {color: black;background-color: white;}#sk-container-id-1 pre{padding: 0;}#sk-container-id-1 div.sk-toggleable {background-color: white;}#sk-container-id-1 label.sk-toggleable__label {cursor: pointer;display: block;width: 100%;margin-bottom: 0;padding: 0.3em;box-sizing: border-box;text-align: center;}#sk-container-id-1 label.sk-toggleable__label-arrow:before {content: \"▸\";float: left;margin-right: 0.25em;color: #696969;}#sk-container-id-1 label.sk-toggleable__label-arrow:hover:before {color: black;}#sk-container-id-1 div.sk-estimator:hover label.sk-toggleable__label-arrow:before {color: black;}#sk-container-id-1 div.sk-toggleable__content {max-height: 0;max-width: 0;overflow: hidden;text-align: left;background-color: #f0f8ff;}#sk-container-id-1 div.sk-toggleable__content pre {margin: 0.2em;color: black;border-radius: 0.25em;background-color: #f0f8ff;}#sk-container-id-1 input.sk-toggleable__control:checked~div.sk-toggleable__content {max-height: 200px;max-width: 100%;overflow: auto;}#sk-container-id-1 input.sk-toggleable__control:checked~label.sk-toggleable__label-arrow:before {content: \"▾\";}#sk-container-id-1 div.sk-estimator input.sk-toggleable__control:checked~label.sk-toggleable__label {background-color: #d4ebff;}#sk-container-id-1 div.sk-label input.sk-toggleable__control:checked~label.sk-toggleable__label {background-color: #d4ebff;}#sk-container-id-1 input.sk-hidden--visually {border: 0;clip: rect(1px 1px 1px 1px);clip: rect(1px, 1px, 1px, 1px);height: 1px;margin: -1px;overflow: hidden;padding: 0;position: absolute;width: 1px;}#sk-container-id-1 div.sk-estimator {font-family: monospace;background-color: #f0f8ff;border: 1px dotted black;border-radius: 0.25em;box-sizing: border-box;margin-bottom: 0.5em;}#sk-container-id-1 div.sk-estimator:hover {background-color: #d4ebff;}#sk-container-id-1 div.sk-parallel-item::after {content: \"\";width: 100%;border-bottom: 1px solid gray;flex-grow: 1;}#sk-container-id-1 div.sk-label:hover label.sk-toggleable__label {background-color: #d4ebff;}#sk-container-id-1 div.sk-serial::before {content: \"\";position: absolute;border-left: 1px solid gray;box-sizing: border-box;top: 0;bottom: 0;left: 50%;z-index: 0;}#sk-container-id-1 div.sk-serial {display: flex;flex-direction: column;align-items: center;background-color: white;padding-right: 0.2em;padding-left: 0.2em;position: relative;}#sk-container-id-1 div.sk-item {position: relative;z-index: 1;}#sk-container-id-1 div.sk-parallel {display: flex;align-items: stretch;justify-content: center;background-color: white;position: relative;}#sk-container-id-1 div.sk-item::before, #sk-container-id-1 div.sk-parallel-item::before {content: \"\";position: absolute;border-left: 1px solid gray;box-sizing: border-box;top: 0;bottom: 0;left: 50%;z-index: -1;}#sk-container-id-1 div.sk-parallel-item {display: flex;flex-direction: column;z-index: 1;position: relative;background-color: white;}#sk-container-id-1 div.sk-parallel-item:first-child::after {align-self: flex-end;width: 50%;}#sk-container-id-1 div.sk-parallel-item:last-child::after {align-self: flex-start;width: 50%;}#sk-container-id-1 div.sk-parallel-item:only-child::after {width: 0;}#sk-container-id-1 div.sk-dashed-wrapped {border: 1px dashed gray;margin: 0 0.4em 0.5em 0.4em;box-sizing: border-box;padding-bottom: 0.4em;background-color: white;}#sk-container-id-1 div.sk-label label {font-family: monospace;font-weight: bold;display: inline-block;line-height: 1.2em;}#sk-container-id-1 div.sk-label-container {text-align: center;}#sk-container-id-1 div.sk-container {/* jupyter's `normalize.less` sets `[hidden] { display: none; }` but bootstrap.min.css set `[hidden] { display: none !important; }` so we also need the `!important` here to be able to override the default hidden behavior on the sphinx rendered scikit-learn.org. See: https://github.com/scikit-learn/scikit-learn/issues/21755 */display: inline-block !important;position: relative;}#sk-container-id-1 div.sk-text-repr-fallback {display: none;}</style><div id=\"sk-container-id-1\" class=\"sk-top-container\"><div class=\"sk-text-repr-fallback\"><pre>DecisionTreeRegressor(random_state=0)</pre><b>In a Jupyter environment, please rerun this cell to show the HTML representation or trust the notebook. <br />On GitHub, the HTML representation is unable to render, please try loading this page with nbviewer.org.</b></div><div class=\"sk-container\" hidden><div class=\"sk-item\"><div class=\"sk-estimator sk-toggleable\"><input class=\"sk-toggleable__control sk-hidden--visually\" id=\"sk-estimator-id-1\" type=\"checkbox\" checked><label for=\"sk-estimator-id-1\" class=\"sk-toggleable__label sk-toggleable__label-arrow\">DecisionTreeRegressor</label><div class=\"sk-toggleable__content\"><pre>DecisionTreeRegressor(random_state=0)</pre></div></div></div></div></div>"
      ],
      "text/plain": [
       "DecisionTreeRegressor(random_state=0)"
      ]
     },
     "execution_count": 10,
     "metadata": {},
     "output_type": "execute_result"
    }
   ],
   "source": [
    "# Fit the model\n",
    "titanic_model.fit(independent_variable, target_variable)"
   ]
  },
  {
   "cell_type": "code",
   "execution_count": 11,
   "id": "efc6a4a5",
   "metadata": {
    "execution": {
     "iopub.execute_input": "2024-12-08T09:08:35.037961Z",
     "iopub.status.busy": "2024-12-08T09:08:35.037028Z",
     "iopub.status.idle": "2024-12-08T09:08:35.043260Z",
     "shell.execute_reply": "2024-12-08T09:08:35.042263Z"
    },
    "papermill": {
     "duration": 0.01358,
     "end_time": "2024-12-08T09:08:35.045312",
     "exception": false,
     "start_time": "2024-12-08T09:08:35.031732",
     "status": "completed"
    },
    "tags": []
   },
   "outputs": [],
   "source": [
    "# Predict survivability\n",
    "prediction = titanic_model.predict(independent_variable)"
   ]
  },
  {
   "cell_type": "code",
   "execution_count": 12,
   "id": "a9496f5a",
   "metadata": {
    "execution": {
     "iopub.execute_input": "2024-12-08T09:08:35.054343Z",
     "iopub.status.busy": "2024-12-08T09:08:35.053914Z",
     "iopub.status.idle": "2024-12-08T09:08:35.059454Z",
     "shell.execute_reply": "2024-12-08T09:08:35.058550Z"
    },
    "papermill": {
     "duration": 0.012437,
     "end_time": "2024-12-08T09:08:35.061526",
     "exception": false,
     "start_time": "2024-12-08T09:08:35.049089",
     "status": "completed"
    },
    "tags": []
   },
   "outputs": [],
   "source": [
    "# Set up the independent variable for the test dataset\n",
    "test_independent_variable = validation_titanic_data[features]"
   ]
  },
  {
   "cell_type": "code",
   "execution_count": 13,
   "id": "2db0a4d0",
   "metadata": {
    "execution": {
     "iopub.execute_input": "2024-12-08T09:08:35.070962Z",
     "iopub.status.busy": "2024-12-08T09:08:35.070550Z",
     "iopub.status.idle": "2024-12-08T09:08:35.078071Z",
     "shell.execute_reply": "2024-12-08T09:08:35.076958Z"
    },
    "papermill": {
     "duration": 0.015386,
     "end_time": "2024-12-08T09:08:35.080805",
     "exception": false,
     "start_time": "2024-12-08T09:08:35.065419",
     "status": "completed"
    },
    "tags": []
   },
   "outputs": [],
   "source": [
    "# Make a prediction for survivability on the validation data\n",
    "validation_prediction = titanic_model.predict(test_independent_variable)\n",
    "\n",
    "validation_prediction = validation_prediction.round(0).astype(int)"
   ]
  },
  {
   "cell_type": "code",
   "execution_count": 14,
   "id": "c953f65c",
   "metadata": {
    "execution": {
     "iopub.execute_input": "2024-12-08T09:08:35.091675Z",
     "iopub.status.busy": "2024-12-08T09:08:35.091274Z",
     "iopub.status.idle": "2024-12-08T09:08:35.103142Z",
     "shell.execute_reply": "2024-12-08T09:08:35.101682Z"
    },
    "papermill": {
     "duration": 0.019356,
     "end_time": "2024-12-08T09:08:35.105457",
     "exception": false,
     "start_time": "2024-12-08T09:08:35.086101",
     "status": "completed"
    },
    "tags": []
   },
   "outputs": [
    {
     "name": "stdout",
     "output_type": "stream",
     "text": [
      "Your submission was successfully saved!\n"
     ]
    }
   ],
   "source": [
    "output = pd.DataFrame({'PassengerId': validation_titanic_data.PassengerId, 'Survived': validation_prediction})\n",
    "output.to_csv('submission.csv', index = False)\n",
    "print(\"Your submission was successfully saved!\")"
   ]
  }
 ],
 "metadata": {
  "kaggle": {
   "accelerator": "none",
   "dataSources": [
    {
     "datasetId": 6249347,
     "sourceId": 10126863,
     "sourceType": "datasetVersion"
    }
   ],
   "dockerImageVersionId": 30804,
   "isGpuEnabled": false,
   "isInternetEnabled": true,
   "language": "python",
   "sourceType": "notebook"
  },
  "kernelspec": {
   "display_name": "Python 3",
   "language": "python",
   "name": "python3"
  },
  "language_info": {
   "codemirror_mode": {
    "name": "ipython",
    "version": 3
   },
   "file_extension": ".py",
   "mimetype": "text/x-python",
   "name": "python",
   "nbconvert_exporter": "python",
   "pygments_lexer": "ipython3",
   "version": "3.10.14"
  },
  "papermill": {
   "default_parameters": {},
   "duration": 6.718598,
   "end_time": "2024-12-08T09:08:35.732937",
   "environment_variables": {},
   "exception": null,
   "input_path": "__notebook__.ipynb",
   "output_path": "__notebook__.ipynb",
   "parameters": {},
   "start_time": "2024-12-08T09:08:29.014339",
   "version": "2.6.0"
  }
 },
 "nbformat": 4,
 "nbformat_minor": 5
}
