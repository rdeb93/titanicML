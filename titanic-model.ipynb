{
 "cells": [
  {
   "cell_type": "code",
   "execution_count": 1,
   "id": "9df23b2a",
   "metadata": {
    "_cell_guid": "b1076dfc-b9ad-4769-8c92-a6c4dae69d19",
    "_uuid": "8f2839f25d086af736a60e9eeb907d3b93b6e0e5",
    "execution": {
     "iopub.execute_input": "2024-12-07T10:01:51.484365Z",
     "iopub.status.busy": "2024-12-07T10:01:51.483962Z",
     "iopub.status.idle": "2024-12-07T10:01:52.419325Z",
     "shell.execute_reply": "2024-12-07T10:01:52.417996Z"
    },
    "papermill": {
     "duration": 0.943249,
     "end_time": "2024-12-07T10:01:52.421791",
     "exception": false,
     "start_time": "2024-12-07T10:01:51.478542",
     "status": "completed"
    },
    "tags": []
   },
   "outputs": [
    {
     "name": "stdout",
     "output_type": "stream",
     "text": [
      "/kaggle/input/titanic-dataset/train.csv\n",
      "/kaggle/input/titanic-dataset/test.csv\n",
      "/kaggle/input/titanic-dataset/gender_submission.csv\n"
     ]
    }
   ],
   "source": [
    "# This Python 3 environment comes with many helpful analytics libraries installed\n",
    "# It is defined by the kaggle/python Docker image: https://github.com/kaggle/docker-python\n",
    "# For example, here's several helpful packages to load\n",
    "\n",
    "import numpy as np # linear algebra\n",
    "import pandas as pd # data processing, CSV file I/O (e.g. pd.read_csv)\n",
    "\n",
    "# Input data files are available in the read-only \"../input/\" directory\n",
    "# For example, running this (by clicking run or pressing Shift+Enter) will list all files under the input directory\n",
    "\n",
    "import os\n",
    "for dirname, _, filenames in os.walk('/kaggle/input'):\n",
    "    for filename in filenames:\n",
    "        print(os.path.join(dirname, filename))\n",
    "\n",
    "# You can write up to 20GB to the current directory (/kaggle/working/) that gets preserved as output when you create a version using \"Save & Run All\" \n",
    "# You can also write temporary files to /kaggle/temp/, but they won't be saved outside of the current session"
   ]
  },
  {
   "cell_type": "code",
   "execution_count": 2,
   "id": "a3f4ef68",
   "metadata": {
    "execution": {
     "iopub.execute_input": "2024-12-07T10:01:52.429717Z",
     "iopub.status.busy": "2024-12-07T10:01:52.429229Z",
     "iopub.status.idle": "2024-12-07T10:01:54.191812Z",
     "shell.execute_reply": "2024-12-07T10:01:54.190695Z"
    },
    "papermill": {
     "duration": 1.769351,
     "end_time": "2024-12-07T10:01:54.194308",
     "exception": false,
     "start_time": "2024-12-07T10:01:52.424957",
     "status": "completed"
    },
    "tags": []
   },
   "outputs": [],
   "source": [
    "# Import DecisionTreeRegressor and OrdinalEncoder\n",
    "from sklearn.tree import DecisionTreeRegressor\n",
    "from sklearn.preprocessing import OrdinalEncoder\n",
    "from sklearn.metrics import mean_absolute_error"
   ]
  },
  {
   "cell_type": "code",
   "execution_count": 3,
   "id": "1fba5bac",
   "metadata": {
    "execution": {
     "iopub.execute_input": "2024-12-07T10:01:54.202773Z",
     "iopub.status.busy": "2024-12-07T10:01:54.201468Z",
     "iopub.status.idle": "2024-12-07T10:01:54.224405Z",
     "shell.execute_reply": "2024-12-07T10:01:54.222926Z"
    },
    "papermill": {
     "duration": 0.029715,
     "end_time": "2024-12-07T10:01:54.227157",
     "exception": false,
     "start_time": "2024-12-07T10:01:54.197442",
     "status": "completed"
    },
    "tags": []
   },
   "outputs": [],
   "source": [
    "# Specify the test file path \n",
    "titanic_train_file_path = '../input/titanic-dataset/train.csv'\n",
    "\n",
    "# Read the .csv file\n",
    "titanic_data = pd.read_csv(titanic_train_file_path)"
   ]
  },
  {
   "cell_type": "code",
   "execution_count": 4,
   "id": "f9dbbdfe",
   "metadata": {
    "execution": {
     "iopub.execute_input": "2024-12-07T10:01:54.234969Z",
     "iopub.status.busy": "2024-12-07T10:01:54.234605Z",
     "iopub.status.idle": "2024-12-07T10:01:54.243105Z",
     "shell.execute_reply": "2024-12-07T10:01:54.241768Z"
    },
    "papermill": {
     "duration": 0.014993,
     "end_time": "2024-12-07T10:01:54.245412",
     "exception": false,
     "start_time": "2024-12-07T10:01:54.230419",
     "status": "completed"
    },
    "tags": []
   },
   "outputs": [],
   "source": [
    "# Set up the target variable (Survived)\n",
    "target_variable = titanic_data.Survived"
   ]
  },
  {
   "cell_type": "code",
   "execution_count": 5,
   "id": "c76a4404",
   "metadata": {
    "execution": {
     "iopub.execute_input": "2024-12-07T10:01:54.253430Z",
     "iopub.status.busy": "2024-12-07T10:01:54.253001Z",
     "iopub.status.idle": "2024-12-07T10:01:54.257740Z",
     "shell.execute_reply": "2024-12-07T10:01:54.256545Z"
    },
    "papermill": {
     "duration": 0.011307,
     "end_time": "2024-12-07T10:01:54.259747",
     "exception": false,
     "start_time": "2024-12-07T10:01:54.248440",
     "status": "completed"
    },
    "tags": []
   },
   "outputs": [],
   "source": [
    "# Set up the intuitive features\n",
    "features = ['Pclass']"
   ]
  },
  {
   "cell_type": "code",
   "execution_count": 6,
   "id": "99847307",
   "metadata": {
    "execution": {
     "iopub.execute_input": "2024-12-07T10:01:54.267212Z",
     "iopub.status.busy": "2024-12-07T10:01:54.266835Z",
     "iopub.status.idle": "2024-12-07T10:01:54.277335Z",
     "shell.execute_reply": "2024-12-07T10:01:54.276203Z"
    },
    "papermill": {
     "duration": 0.016684,
     "end_time": "2024-12-07T10:01:54.279498",
     "exception": false,
     "start_time": "2024-12-07T10:01:54.262814",
     "status": "completed"
    },
    "tags": []
   },
   "outputs": [],
   "source": [
    "# Set up the independent variable\n",
    "independent_variable = titanic_data[features]"
   ]
  },
  {
   "cell_type": "code",
   "execution_count": 7,
   "id": "d007801c",
   "metadata": {
    "execution": {
     "iopub.execute_input": "2024-12-07T10:01:54.286996Z",
     "iopub.status.busy": "2024-12-07T10:01:54.286609Z",
     "iopub.status.idle": "2024-12-07T10:01:54.291472Z",
     "shell.execute_reply": "2024-12-07T10:01:54.290386Z"
    },
    "papermill": {
     "duration": 0.01118,
     "end_time": "2024-12-07T10:01:54.293694",
     "exception": false,
     "start_time": "2024-12-07T10:01:54.282514",
     "status": "completed"
    },
    "tags": []
   },
   "outputs": [],
   "source": [
    "# Specify the model and set the random seed to get the same results every run\n",
    "titanic_model = DecisionTreeRegressor(random_state = 0)"
   ]
  },
  {
   "cell_type": "code",
   "execution_count": 8,
   "id": "fa0c814e",
   "metadata": {
    "execution": {
     "iopub.execute_input": "2024-12-07T10:01:54.301004Z",
     "iopub.status.busy": "2024-12-07T10:01:54.300560Z",
     "iopub.status.idle": "2024-12-07T10:01:54.316008Z",
     "shell.execute_reply": "2024-12-07T10:01:54.314994Z"
    },
    "papermill": {
     "duration": 0.021456,
     "end_time": "2024-12-07T10:01:54.318186",
     "exception": false,
     "start_time": "2024-12-07T10:01:54.296730",
     "status": "completed"
    },
    "tags": []
   },
   "outputs": [
    {
     "data": {
      "text/html": [
       "<style>#sk-container-id-1 {color: black;background-color: white;}#sk-container-id-1 pre{padding: 0;}#sk-container-id-1 div.sk-toggleable {background-color: white;}#sk-container-id-1 label.sk-toggleable__label {cursor: pointer;display: block;width: 100%;margin-bottom: 0;padding: 0.3em;box-sizing: border-box;text-align: center;}#sk-container-id-1 label.sk-toggleable__label-arrow:before {content: \"▸\";float: left;margin-right: 0.25em;color: #696969;}#sk-container-id-1 label.sk-toggleable__label-arrow:hover:before {color: black;}#sk-container-id-1 div.sk-estimator:hover label.sk-toggleable__label-arrow:before {color: black;}#sk-container-id-1 div.sk-toggleable__content {max-height: 0;max-width: 0;overflow: hidden;text-align: left;background-color: #f0f8ff;}#sk-container-id-1 div.sk-toggleable__content pre {margin: 0.2em;color: black;border-radius: 0.25em;background-color: #f0f8ff;}#sk-container-id-1 input.sk-toggleable__control:checked~div.sk-toggleable__content {max-height: 200px;max-width: 100%;overflow: auto;}#sk-container-id-1 input.sk-toggleable__control:checked~label.sk-toggleable__label-arrow:before {content: \"▾\";}#sk-container-id-1 div.sk-estimator input.sk-toggleable__control:checked~label.sk-toggleable__label {background-color: #d4ebff;}#sk-container-id-1 div.sk-label input.sk-toggleable__control:checked~label.sk-toggleable__label {background-color: #d4ebff;}#sk-container-id-1 input.sk-hidden--visually {border: 0;clip: rect(1px 1px 1px 1px);clip: rect(1px, 1px, 1px, 1px);height: 1px;margin: -1px;overflow: hidden;padding: 0;position: absolute;width: 1px;}#sk-container-id-1 div.sk-estimator {font-family: monospace;background-color: #f0f8ff;border: 1px dotted black;border-radius: 0.25em;box-sizing: border-box;margin-bottom: 0.5em;}#sk-container-id-1 div.sk-estimator:hover {background-color: #d4ebff;}#sk-container-id-1 div.sk-parallel-item::after {content: \"\";width: 100%;border-bottom: 1px solid gray;flex-grow: 1;}#sk-container-id-1 div.sk-label:hover label.sk-toggleable__label {background-color: #d4ebff;}#sk-container-id-1 div.sk-serial::before {content: \"\";position: absolute;border-left: 1px solid gray;box-sizing: border-box;top: 0;bottom: 0;left: 50%;z-index: 0;}#sk-container-id-1 div.sk-serial {display: flex;flex-direction: column;align-items: center;background-color: white;padding-right: 0.2em;padding-left: 0.2em;position: relative;}#sk-container-id-1 div.sk-item {position: relative;z-index: 1;}#sk-container-id-1 div.sk-parallel {display: flex;align-items: stretch;justify-content: center;background-color: white;position: relative;}#sk-container-id-1 div.sk-item::before, #sk-container-id-1 div.sk-parallel-item::before {content: \"\";position: absolute;border-left: 1px solid gray;box-sizing: border-box;top: 0;bottom: 0;left: 50%;z-index: -1;}#sk-container-id-1 div.sk-parallel-item {display: flex;flex-direction: column;z-index: 1;position: relative;background-color: white;}#sk-container-id-1 div.sk-parallel-item:first-child::after {align-self: flex-end;width: 50%;}#sk-container-id-1 div.sk-parallel-item:last-child::after {align-self: flex-start;width: 50%;}#sk-container-id-1 div.sk-parallel-item:only-child::after {width: 0;}#sk-container-id-1 div.sk-dashed-wrapped {border: 1px dashed gray;margin: 0 0.4em 0.5em 0.4em;box-sizing: border-box;padding-bottom: 0.4em;background-color: white;}#sk-container-id-1 div.sk-label label {font-family: monospace;font-weight: bold;display: inline-block;line-height: 1.2em;}#sk-container-id-1 div.sk-label-container {text-align: center;}#sk-container-id-1 div.sk-container {/* jupyter's `normalize.less` sets `[hidden] { display: none; }` but bootstrap.min.css set `[hidden] { display: none !important; }` so we also need the `!important` here to be able to override the default hidden behavior on the sphinx rendered scikit-learn.org. See: https://github.com/scikit-learn/scikit-learn/issues/21755 */display: inline-block !important;position: relative;}#sk-container-id-1 div.sk-text-repr-fallback {display: none;}</style><div id=\"sk-container-id-1\" class=\"sk-top-container\"><div class=\"sk-text-repr-fallback\"><pre>DecisionTreeRegressor(random_state=0)</pre><b>In a Jupyter environment, please rerun this cell to show the HTML representation or trust the notebook. <br />On GitHub, the HTML representation is unable to render, please try loading this page with nbviewer.org.</b></div><div class=\"sk-container\" hidden><div class=\"sk-item\"><div class=\"sk-estimator sk-toggleable\"><input class=\"sk-toggleable__control sk-hidden--visually\" id=\"sk-estimator-id-1\" type=\"checkbox\" checked><label for=\"sk-estimator-id-1\" class=\"sk-toggleable__label sk-toggleable__label-arrow\">DecisionTreeRegressor</label><div class=\"sk-toggleable__content\"><pre>DecisionTreeRegressor(random_state=0)</pre></div></div></div></div></div>"
      ],
      "text/plain": [
       "DecisionTreeRegressor(random_state=0)"
      ]
     },
     "execution_count": 8,
     "metadata": {},
     "output_type": "execute_result"
    }
   ],
   "source": [
    "# Fit the model\n",
    "titanic_model.fit(independent_variable, target_variable)"
   ]
  },
  {
   "cell_type": "code",
   "execution_count": 9,
   "id": "038cf844",
   "metadata": {
    "execution": {
     "iopub.execute_input": "2024-12-07T10:01:54.327365Z",
     "iopub.status.busy": "2024-12-07T10:01:54.326982Z",
     "iopub.status.idle": "2024-12-07T10:01:54.333465Z",
     "shell.execute_reply": "2024-12-07T10:01:54.332169Z"
    },
    "papermill": {
     "duration": 0.014111,
     "end_time": "2024-12-07T10:01:54.335569",
     "exception": false,
     "start_time": "2024-12-07T10:01:54.321458",
     "status": "completed"
    },
    "tags": []
   },
   "outputs": [],
   "source": [
    "# Predict survivability\n",
    "prediction = titanic_model.predict(independent_variable)"
   ]
  },
  {
   "cell_type": "code",
   "execution_count": 10,
   "id": "9d3938f9",
   "metadata": {
    "execution": {
     "iopub.execute_input": "2024-12-07T10:01:54.343553Z",
     "iopub.status.busy": "2024-12-07T10:01:54.343169Z",
     "iopub.status.idle": "2024-12-07T10:01:54.351233Z",
     "shell.execute_reply": "2024-12-07T10:01:54.350144Z"
    },
    "papermill": {
     "duration": 0.014533,
     "end_time": "2024-12-07T10:01:54.353332",
     "exception": false,
     "start_time": "2024-12-07T10:01:54.338799",
     "status": "completed"
    },
    "tags": []
   },
   "outputs": [
    {
     "data": {
      "text/plain": [
       "0.41839138109005924"
      ]
     },
     "execution_count": 10,
     "metadata": {},
     "output_type": "execute_result"
    }
   ],
   "source": [
    "mean_absolute_error(titanic_data['Survived'], prediction)"
   ]
  }
 ],
 "metadata": {
  "kaggle": {
   "accelerator": "none",
   "dataSources": [
    {
     "datasetId": 6249347,
     "sourceId": 10126863,
     "sourceType": "datasetVersion"
    }
   ],
   "dockerImageVersionId": 30804,
   "isGpuEnabled": false,
   "isInternetEnabled": true,
   "language": "python",
   "sourceType": "notebook"
  },
  "kernelspec": {
   "display_name": "Python 3",
   "language": "python",
   "name": "python3"
  },
  "language_info": {
   "codemirror_mode": {
    "name": "ipython",
    "version": 3
   },
   "file_extension": ".py",
   "mimetype": "text/x-python",
   "name": "python",
   "nbconvert_exporter": "python",
   "pygments_lexer": "ipython3",
   "version": "3.10.14"
  },
  "papermill": {
   "default_parameters": {},
   "duration": 6.24337,
   "end_time": "2024-12-07T10:01:54.977707",
   "environment_variables": {},
   "exception": null,
   "input_path": "__notebook__.ipynb",
   "output_path": "__notebook__.ipynb",
   "parameters": {},
   "start_time": "2024-12-07T10:01:48.734337",
   "version": "2.6.0"
  }
 },
 "nbformat": 4,
 "nbformat_minor": 5
}
