{
 "cells": [
  {
   "cell_type": "code",
   "execution_count": 1,
   "id": "2057c5a3",
   "metadata": {
    "_cell_guid": "b1076dfc-b9ad-4769-8c92-a6c4dae69d19",
    "_uuid": "8f2839f25d086af736a60e9eeb907d3b93b6e0e5",
    "execution": {
     "iopub.execute_input": "2024-12-08T08:26:10.711187Z",
     "iopub.status.busy": "2024-12-08T08:26:10.710680Z",
     "iopub.status.idle": "2024-12-08T08:26:11.622518Z",
     "shell.execute_reply": "2024-12-08T08:26:11.620766Z"
    },
    "papermill": {
     "duration": 0.920811,
     "end_time": "2024-12-08T08:26:11.625707",
     "exception": false,
     "start_time": "2024-12-08T08:26:10.704896",
     "status": "completed"
    },
    "tags": []
   },
   "outputs": [
    {
     "name": "stdout",
     "output_type": "stream",
     "text": [
      "/kaggle/input/titanic-dataset/train.csv\n",
      "/kaggle/input/titanic-dataset/test.csv\n",
      "/kaggle/input/titanic-dataset/gender_submission.csv\n"
     ]
    }
   ],
   "source": [
    "# This Python 3 environment comes with many helpful analytics libraries installed\n",
    "# It is defined by the kaggle/python Docker image: https://github.com/kaggle/docker-python\n",
    "# For example, here's several helpful packages to load\n",
    "\n",
    "import numpy as np # linear algebra\n",
    "import pandas as pd # data processing, CSV file I/O (e.g. pd.read_csv)\n",
    "\n",
    "# Input data files are available in the read-only \"../input/\" directory\n",
    "# For example, running this (by clicking run or pressing Shift+Enter) will list all files under the input directory\n",
    "\n",
    "import os\n",
    "for dirname, _, filenames in os.walk('/kaggle/input'):\n",
    "    for filename in filenames:\n",
    "        print(os.path.join(dirname, filename))\n",
    "\n",
    "# You can write up to 20GB to the current directory (/kaggle/working/) that gets preserved as output when you create a version using \"Save & Run All\" \n",
    "# You can also write temporary files to /kaggle/temp/, but they won't be saved outside of the current session"
   ]
  },
  {
   "cell_type": "code",
   "execution_count": 2,
   "id": "1d30b289",
   "metadata": {
    "execution": {
     "iopub.execute_input": "2024-12-08T08:26:11.640400Z",
     "iopub.status.busy": "2024-12-08T08:26:11.639632Z",
     "iopub.status.idle": "2024-12-08T08:26:13.321891Z",
     "shell.execute_reply": "2024-12-08T08:26:13.320701Z"
    },
    "papermill": {
     "duration": 1.692237,
     "end_time": "2024-12-08T08:26:13.324443",
     "exception": false,
     "start_time": "2024-12-08T08:26:11.632206",
     "status": "completed"
    },
    "tags": []
   },
   "outputs": [],
   "source": [
    "# Import DecisionTreeRegressor and OrdinalEncoder\n",
    "from sklearn.tree import DecisionTreeRegressor\n",
    "from sklearn.preprocessing import LabelEncoder\n",
    "from sklearn.metrics import mean_absolute_error"
   ]
  },
  {
   "cell_type": "code",
   "execution_count": 3,
   "id": "af654830",
   "metadata": {
    "execution": {
     "iopub.execute_input": "2024-12-08T08:26:13.333005Z",
     "iopub.status.busy": "2024-12-08T08:26:13.332463Z",
     "iopub.status.idle": "2024-12-08T08:26:13.366199Z",
     "shell.execute_reply": "2024-12-08T08:26:13.365001Z"
    },
    "papermill": {
     "duration": 0.040648,
     "end_time": "2024-12-08T08:26:13.368526",
     "exception": false,
     "start_time": "2024-12-08T08:26:13.327878",
     "status": "completed"
    },
    "tags": []
   },
   "outputs": [],
   "source": [
    "# Specify the test file path \n",
    "titanic_train_file_path = '../input/titanic-dataset/train.csv'\n",
    "\n",
    "# Specify the validation file path\n",
    "titanic_validation_file_path = '../input/titanic-dataset/test.csv'\n",
    "\n",
    "# Read the .csv files\n",
    "train_titanic_data = pd.read_csv(titanic_train_file_path)\n",
    "\n",
    "validation_titanic_data = pd.read_csv(titanic_validation_file_path)"
   ]
  },
  {
   "cell_type": "code",
   "execution_count": 4,
   "id": "d35ddf58",
   "metadata": {
    "execution": {
     "iopub.execute_input": "2024-12-08T08:26:13.376675Z",
     "iopub.status.busy": "2024-12-08T08:26:13.376310Z",
     "iopub.status.idle": "2024-12-08T08:26:13.386171Z",
     "shell.execute_reply": "2024-12-08T08:26:13.385028Z"
    },
    "papermill": {
     "duration": 0.016583,
     "end_time": "2024-12-08T08:26:13.388451",
     "exception": false,
     "start_time": "2024-12-08T08:26:13.371868",
     "status": "completed"
    },
    "tags": []
   },
   "outputs": [],
   "source": [
    "# Set up the target variable (Survived)\n",
    "target_variable = train_titanic_data.Survived"
   ]
  },
  {
   "cell_type": "code",
   "execution_count": 5,
   "id": "d968c89e",
   "metadata": {
    "execution": {
     "iopub.execute_input": "2024-12-08T08:26:13.396890Z",
     "iopub.status.busy": "2024-12-08T08:26:13.396491Z",
     "iopub.status.idle": "2024-12-08T08:26:13.403687Z",
     "shell.execute_reply": "2024-12-08T08:26:13.402670Z"
    },
    "papermill": {
     "duration": 0.013682,
     "end_time": "2024-12-08T08:26:13.405670",
     "exception": false,
     "start_time": "2024-12-08T08:26:13.391988",
     "status": "completed"
    },
    "tags": []
   },
   "outputs": [],
   "source": [
    "# Convert 'Sex' column to numerical data\n",
    "\n",
    "# Initialise the encoder\n",
    "\n",
    "encoder = LabelEncoder()\n",
    "\n",
    "# Apply the encoder to the 'Sex' column of the training dataset\n",
    "train_titanic_data['Sex'] = encoder.fit_transform(train_titanic_data['Sex'])\n",
    "\n",
    "# Apply the encoder to the 'Sex' column of the validation dataset\n",
    "validation_titanic_data['Sex'] = encoder.fit_transform(validation_titanic_data['Sex'])"
   ]
  },
  {
   "cell_type": "code",
   "execution_count": 6,
   "id": "974eec81",
   "metadata": {
    "execution": {
     "iopub.execute_input": "2024-12-08T08:26:13.414256Z",
     "iopub.status.busy": "2024-12-08T08:26:13.413294Z",
     "iopub.status.idle": "2024-12-08T08:26:13.417918Z",
     "shell.execute_reply": "2024-12-08T08:26:13.416972Z"
    },
    "papermill": {
     "duration": 0.011215,
     "end_time": "2024-12-08T08:26:13.420107",
     "exception": false,
     "start_time": "2024-12-08T08:26:13.408892",
     "status": "completed"
    },
    "tags": []
   },
   "outputs": [],
   "source": [
    "# Set up the features\n",
    "features = ['Pclass', 'Sex']"
   ]
  },
  {
   "cell_type": "code",
   "execution_count": 7,
   "id": "cc5d6e50",
   "metadata": {
    "execution": {
     "iopub.execute_input": "2024-12-08T08:26:13.428382Z",
     "iopub.status.busy": "2024-12-08T08:26:13.427980Z",
     "iopub.status.idle": "2024-12-08T08:26:13.439422Z",
     "shell.execute_reply": "2024-12-08T08:26:13.438363Z"
    },
    "papermill": {
     "duration": 0.017801,
     "end_time": "2024-12-08T08:26:13.441376",
     "exception": false,
     "start_time": "2024-12-08T08:26:13.423575",
     "status": "completed"
    },
    "tags": []
   },
   "outputs": [],
   "source": [
    "# Set up the independent variable\n",
    "independent_variable = train_titanic_data[features]"
   ]
  },
  {
   "cell_type": "code",
   "execution_count": 8,
   "id": "96187211",
   "metadata": {
    "execution": {
     "iopub.execute_input": "2024-12-08T08:26:13.450631Z",
     "iopub.status.busy": "2024-12-08T08:26:13.449898Z",
     "iopub.status.idle": "2024-12-08T08:26:13.454609Z",
     "shell.execute_reply": "2024-12-08T08:26:13.453458Z"
    },
    "papermill": {
     "duration": 0.010894,
     "end_time": "2024-12-08T08:26:13.456592",
     "exception": false,
     "start_time": "2024-12-08T08:26:13.445698",
     "status": "completed"
    },
    "tags": []
   },
   "outputs": [],
   "source": [
    "# Specify the model and set the random seed to get the same results every run\n",
    "titanic_model = DecisionTreeRegressor(random_state = 0)"
   ]
  },
  {
   "cell_type": "code",
   "execution_count": 9,
   "id": "4f41ba55",
   "metadata": {
    "execution": {
     "iopub.execute_input": "2024-12-08T08:26:13.464727Z",
     "iopub.status.busy": "2024-12-08T08:26:13.464069Z",
     "iopub.status.idle": "2024-12-08T08:26:13.482259Z",
     "shell.execute_reply": "2024-12-08T08:26:13.481258Z"
    },
    "papermill": {
     "duration": 0.024418,
     "end_time": "2024-12-08T08:26:13.484291",
     "exception": false,
     "start_time": "2024-12-08T08:26:13.459873",
     "status": "completed"
    },
    "tags": []
   },
   "outputs": [
    {
     "data": {
      "text/html": [
       "<style>#sk-container-id-1 {color: black;background-color: white;}#sk-container-id-1 pre{padding: 0;}#sk-container-id-1 div.sk-toggleable {background-color: white;}#sk-container-id-1 label.sk-toggleable__label {cursor: pointer;display: block;width: 100%;margin-bottom: 0;padding: 0.3em;box-sizing: border-box;text-align: center;}#sk-container-id-1 label.sk-toggleable__label-arrow:before {content: \"▸\";float: left;margin-right: 0.25em;color: #696969;}#sk-container-id-1 label.sk-toggleable__label-arrow:hover:before {color: black;}#sk-container-id-1 div.sk-estimator:hover label.sk-toggleable__label-arrow:before {color: black;}#sk-container-id-1 div.sk-toggleable__content {max-height: 0;max-width: 0;overflow: hidden;text-align: left;background-color: #f0f8ff;}#sk-container-id-1 div.sk-toggleable__content pre {margin: 0.2em;color: black;border-radius: 0.25em;background-color: #f0f8ff;}#sk-container-id-1 input.sk-toggleable__control:checked~div.sk-toggleable__content {max-height: 200px;max-width: 100%;overflow: auto;}#sk-container-id-1 input.sk-toggleable__control:checked~label.sk-toggleable__label-arrow:before {content: \"▾\";}#sk-container-id-1 div.sk-estimator input.sk-toggleable__control:checked~label.sk-toggleable__label {background-color: #d4ebff;}#sk-container-id-1 div.sk-label input.sk-toggleable__control:checked~label.sk-toggleable__label {background-color: #d4ebff;}#sk-container-id-1 input.sk-hidden--visually {border: 0;clip: rect(1px 1px 1px 1px);clip: rect(1px, 1px, 1px, 1px);height: 1px;margin: -1px;overflow: hidden;padding: 0;position: absolute;width: 1px;}#sk-container-id-1 div.sk-estimator {font-family: monospace;background-color: #f0f8ff;border: 1px dotted black;border-radius: 0.25em;box-sizing: border-box;margin-bottom: 0.5em;}#sk-container-id-1 div.sk-estimator:hover {background-color: #d4ebff;}#sk-container-id-1 div.sk-parallel-item::after {content: \"\";width: 100%;border-bottom: 1px solid gray;flex-grow: 1;}#sk-container-id-1 div.sk-label:hover label.sk-toggleable__label {background-color: #d4ebff;}#sk-container-id-1 div.sk-serial::before {content: \"\";position: absolute;border-left: 1px solid gray;box-sizing: border-box;top: 0;bottom: 0;left: 50%;z-index: 0;}#sk-container-id-1 div.sk-serial {display: flex;flex-direction: column;align-items: center;background-color: white;padding-right: 0.2em;padding-left: 0.2em;position: relative;}#sk-container-id-1 div.sk-item {position: relative;z-index: 1;}#sk-container-id-1 div.sk-parallel {display: flex;align-items: stretch;justify-content: center;background-color: white;position: relative;}#sk-container-id-1 div.sk-item::before, #sk-container-id-1 div.sk-parallel-item::before {content: \"\";position: absolute;border-left: 1px solid gray;box-sizing: border-box;top: 0;bottom: 0;left: 50%;z-index: -1;}#sk-container-id-1 div.sk-parallel-item {display: flex;flex-direction: column;z-index: 1;position: relative;background-color: white;}#sk-container-id-1 div.sk-parallel-item:first-child::after {align-self: flex-end;width: 50%;}#sk-container-id-1 div.sk-parallel-item:last-child::after {align-self: flex-start;width: 50%;}#sk-container-id-1 div.sk-parallel-item:only-child::after {width: 0;}#sk-container-id-1 div.sk-dashed-wrapped {border: 1px dashed gray;margin: 0 0.4em 0.5em 0.4em;box-sizing: border-box;padding-bottom: 0.4em;background-color: white;}#sk-container-id-1 div.sk-label label {font-family: monospace;font-weight: bold;display: inline-block;line-height: 1.2em;}#sk-container-id-1 div.sk-label-container {text-align: center;}#sk-container-id-1 div.sk-container {/* jupyter's `normalize.less` sets `[hidden] { display: none; }` but bootstrap.min.css set `[hidden] { display: none !important; }` so we also need the `!important` here to be able to override the default hidden behavior on the sphinx rendered scikit-learn.org. See: https://github.com/scikit-learn/scikit-learn/issues/21755 */display: inline-block !important;position: relative;}#sk-container-id-1 div.sk-text-repr-fallback {display: none;}</style><div id=\"sk-container-id-1\" class=\"sk-top-container\"><div class=\"sk-text-repr-fallback\"><pre>DecisionTreeRegressor(random_state=0)</pre><b>In a Jupyter environment, please rerun this cell to show the HTML representation or trust the notebook. <br />On GitHub, the HTML representation is unable to render, please try loading this page with nbviewer.org.</b></div><div class=\"sk-container\" hidden><div class=\"sk-item\"><div class=\"sk-estimator sk-toggleable\"><input class=\"sk-toggleable__control sk-hidden--visually\" id=\"sk-estimator-id-1\" type=\"checkbox\" checked><label for=\"sk-estimator-id-1\" class=\"sk-toggleable__label sk-toggleable__label-arrow\">DecisionTreeRegressor</label><div class=\"sk-toggleable__content\"><pre>DecisionTreeRegressor(random_state=0)</pre></div></div></div></div></div>"
      ],
      "text/plain": [
       "DecisionTreeRegressor(random_state=0)"
      ]
     },
     "execution_count": 9,
     "metadata": {},
     "output_type": "execute_result"
    }
   ],
   "source": [
    "# Fit the model\n",
    "titanic_model.fit(independent_variable, target_variable)"
   ]
  },
  {
   "cell_type": "code",
   "execution_count": 10,
   "id": "7195358a",
   "metadata": {
    "execution": {
     "iopub.execute_input": "2024-12-08T08:26:13.492752Z",
     "iopub.status.busy": "2024-12-08T08:26:13.492408Z",
     "iopub.status.idle": "2024-12-08T08:26:13.498739Z",
     "shell.execute_reply": "2024-12-08T08:26:13.497735Z"
    },
    "papermill": {
     "duration": 0.012996,
     "end_time": "2024-12-08T08:26:13.500840",
     "exception": false,
     "start_time": "2024-12-08T08:26:13.487844",
     "status": "completed"
    },
    "tags": []
   },
   "outputs": [],
   "source": [
    "# Predict survivability\n",
    "prediction = titanic_model.predict(independent_variable)"
   ]
  },
  {
   "cell_type": "code",
   "execution_count": 11,
   "id": "4e3dd898",
   "metadata": {
    "execution": {
     "iopub.execute_input": "2024-12-08T08:26:13.509639Z",
     "iopub.status.busy": "2024-12-08T08:26:13.509260Z",
     "iopub.status.idle": "2024-12-08T08:26:13.514735Z",
     "shell.execute_reply": "2024-12-08T08:26:13.513636Z"
    },
    "papermill": {
     "duration": 0.012389,
     "end_time": "2024-12-08T08:26:13.516843",
     "exception": false,
     "start_time": "2024-12-08T08:26:13.504454",
     "status": "completed"
    },
    "tags": []
   },
   "outputs": [],
   "source": [
    "# Set up the independent variable for the test dataset\n",
    "test_independent_variable = validation_titanic_data[features]"
   ]
  },
  {
   "cell_type": "code",
   "execution_count": 12,
   "id": "2e2643ef",
   "metadata": {
    "execution": {
     "iopub.execute_input": "2024-12-08T08:26:13.525468Z",
     "iopub.status.busy": "2024-12-08T08:26:13.525113Z",
     "iopub.status.idle": "2024-12-08T08:26:13.532049Z",
     "shell.execute_reply": "2024-12-08T08:26:13.530845Z"
    },
    "papermill": {
     "duration": 0.013777,
     "end_time": "2024-12-08T08:26:13.534180",
     "exception": false,
     "start_time": "2024-12-08T08:26:13.520403",
     "status": "completed"
    },
    "tags": []
   },
   "outputs": [],
   "source": [
    "# Make a prediction for survivability on the validation data\n",
    "validation_prediction = titanic_model.predict(test_independent_variable)\n",
    "\n",
    "validation_prediction = validation_prediction.round(0).astype(int)"
   ]
  },
  {
   "cell_type": "code",
   "execution_count": 13,
   "id": "1e902a3e",
   "metadata": {
    "execution": {
     "iopub.execute_input": "2024-12-08T08:26:13.542737Z",
     "iopub.status.busy": "2024-12-08T08:26:13.542380Z",
     "iopub.status.idle": "2024-12-08T08:26:13.552429Z",
     "shell.execute_reply": "2024-12-08T08:26:13.551185Z"
    },
    "papermill": {
     "duration": 0.016802,
     "end_time": "2024-12-08T08:26:13.554537",
     "exception": false,
     "start_time": "2024-12-08T08:26:13.537735",
     "status": "completed"
    },
    "tags": []
   },
   "outputs": [
    {
     "name": "stdout",
     "output_type": "stream",
     "text": [
      "Your submission was successfully saved!\n"
     ]
    }
   ],
   "source": [
    "output = pd.DataFrame({'PassengerId': validation_titanic_data.PassengerId, 'Survived': validation_prediction})\n",
    "output.to_csv('submission.csv', index = False)\n",
    "print(\"Your submission was successfully saved!\")"
   ]
  }
 ],
 "metadata": {
  "kaggle": {
   "accelerator": "none",
   "dataSources": [
    {
     "datasetId": 6249347,
     "sourceId": 10126863,
     "sourceType": "datasetVersion"
    }
   ],
   "dockerImageVersionId": 30804,
   "isGpuEnabled": false,
   "isInternetEnabled": true,
   "language": "python",
   "sourceType": "notebook"
  },
  "kernelspec": {
   "display_name": "Python 3",
   "language": "python",
   "name": "python3"
  },
  "language_info": {
   "codemirror_mode": {
    "name": "ipython",
    "version": 3
   },
   "file_extension": ".py",
   "mimetype": "text/x-python",
   "name": "python",
   "nbconvert_exporter": "python",
   "pygments_lexer": "ipython3",
   "version": "3.10.14"
  },
  "papermill": {
   "default_parameters": {},
   "duration": 6.094845,
   "end_time": "2024-12-08T08:26:14.179830",
   "environment_variables": {},
   "exception": null,
   "input_path": "__notebook__.ipynb",
   "output_path": "__notebook__.ipynb",
   "parameters": {},
   "start_time": "2024-12-08T08:26:08.084985",
   "version": "2.6.0"
  }
 },
 "nbformat": 4,
 "nbformat_minor": 5
}
