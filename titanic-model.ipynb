{
 "cells": [
  {
   "cell_type": "code",
   "execution_count": 1,
   "id": "de6f46d7",
   "metadata": {
    "_cell_guid": "b1076dfc-b9ad-4769-8c92-a6c4dae69d19",
    "_uuid": "8f2839f25d086af736a60e9eeb907d3b93b6e0e5",
    "execution": {
     "iopub.execute_input": "2024-12-08T09:23:48.853873Z",
     "iopub.status.busy": "2024-12-08T09:23:48.853461Z",
     "iopub.status.idle": "2024-12-08T09:23:49.831451Z",
     "shell.execute_reply": "2024-12-08T09:23:49.830130Z"
    },
    "papermill": {
     "duration": 0.986834,
     "end_time": "2024-12-08T09:23:49.834262",
     "exception": false,
     "start_time": "2024-12-08T09:23:48.847428",
     "status": "completed"
    },
    "tags": []
   },
   "outputs": [
    {
     "name": "stdout",
     "output_type": "stream",
     "text": [
      "/kaggle/input/titanic-dataset/train.csv\n",
      "/kaggle/input/titanic-dataset/test.csv\n",
      "/kaggle/input/titanic-dataset/gender_submission.csv\n"
     ]
    }
   ],
   "source": [
    "# This Python 3 environment comes with many helpful analytics libraries installed\n",
    "# It is defined by the kaggle/python Docker image: https://github.com/kaggle/docker-python\n",
    "# For example, here's several helpful packages to load\n",
    "\n",
    "import numpy as np # linear algebra\n",
    "import pandas as pd # data processing, CSV file I/O (e.g. pd.read_csv)\n",
    "\n",
    "# Input data files are available in the read-only \"../input/\" directory\n",
    "# For example, running this (by clicking run or pressing Shift+Enter) will list all files under the input directory\n",
    "\n",
    "import os\n",
    "for dirname, _, filenames in os.walk('/kaggle/input'):\n",
    "    for filename in filenames:\n",
    "        print(os.path.join(dirname, filename))\n",
    "\n",
    "# You can write up to 20GB to the current directory (/kaggle/working/) that gets preserved as output when you create a version using \"Save & Run All\" \n",
    "# You can also write temporary files to /kaggle/temp/, but they won't be saved outside of the current session"
   ]
  },
  {
   "cell_type": "code",
   "execution_count": 2,
   "id": "eb81ed68",
   "metadata": {
    "execution": {
     "iopub.execute_input": "2024-12-08T09:23:49.844079Z",
     "iopub.status.busy": "2024-12-08T09:23:49.843486Z",
     "iopub.status.idle": "2024-12-08T09:23:51.765029Z",
     "shell.execute_reply": "2024-12-08T09:23:51.763913Z"
    },
    "papermill": {
     "duration": 1.929251,
     "end_time": "2024-12-08T09:23:51.767530",
     "exception": false,
     "start_time": "2024-12-08T09:23:49.838279",
     "status": "completed"
    },
    "tags": []
   },
   "outputs": [],
   "source": [
    "# Import DecisionTreeRegressor and OrdinalEncoder\n",
    "from sklearn.ensemble import RandomForestClassifier\n",
    "from sklearn.preprocessing import LabelEncoder\n",
    "from sklearn.metrics import mean_absolute_error"
   ]
  },
  {
   "cell_type": "code",
   "execution_count": 3,
   "id": "95bd629c",
   "metadata": {
    "execution": {
     "iopub.execute_input": "2024-12-08T09:23:51.777992Z",
     "iopub.status.busy": "2024-12-08T09:23:51.776976Z",
     "iopub.status.idle": "2024-12-08T09:23:51.806030Z",
     "shell.execute_reply": "2024-12-08T09:23:51.804783Z"
    },
    "papermill": {
     "duration": 0.037251,
     "end_time": "2024-12-08T09:23:51.808977",
     "exception": false,
     "start_time": "2024-12-08T09:23:51.771726",
     "status": "completed"
    },
    "tags": []
   },
   "outputs": [],
   "source": [
    "# Specify the test file path \n",
    "titanic_train_file_path = '../input/titanic-dataset/train.csv'\n",
    "\n",
    "# Specify the validation file path\n",
    "titanic_validation_file_path = '../input/titanic-dataset/test.csv'\n",
    "\n",
    "# Read the .csv files\n",
    "train_titanic_data = pd.read_csv(titanic_train_file_path)\n",
    "\n",
    "validation_titanic_data = pd.read_csv(titanic_validation_file_path)"
   ]
  },
  {
   "cell_type": "code",
   "execution_count": 4,
   "id": "17649500",
   "metadata": {
    "execution": {
     "iopub.execute_input": "2024-12-08T09:23:51.818478Z",
     "iopub.status.busy": "2024-12-08T09:23:51.818043Z",
     "iopub.status.idle": "2024-12-08T09:23:51.827428Z",
     "shell.execute_reply": "2024-12-08T09:23:51.826130Z"
    },
    "papermill": {
     "duration": 0.017119,
     "end_time": "2024-12-08T09:23:51.829941",
     "exception": false,
     "start_time": "2024-12-08T09:23:51.812822",
     "status": "completed"
    },
    "tags": []
   },
   "outputs": [],
   "source": [
    "# Set up the target variable (Survived)\n",
    "target_variable = train_titanic_data.Survived"
   ]
  },
  {
   "cell_type": "code",
   "execution_count": 5,
   "id": "701d621e",
   "metadata": {
    "execution": {
     "iopub.execute_input": "2024-12-08T09:23:51.839409Z",
     "iopub.status.busy": "2024-12-08T09:23:51.838959Z",
     "iopub.status.idle": "2024-12-08T09:23:51.847349Z",
     "shell.execute_reply": "2024-12-08T09:23:51.846242Z"
    },
    "papermill": {
     "duration": 0.015646,
     "end_time": "2024-12-08T09:23:51.849484",
     "exception": false,
     "start_time": "2024-12-08T09:23:51.833838",
     "status": "completed"
    },
    "tags": []
   },
   "outputs": [],
   "source": [
    "# Convert 'Sex' column to numerical data\n",
    "\n",
    "# Initialise the encoder\n",
    "\n",
    "encoder = LabelEncoder()\n",
    "\n",
    "# Apply the encoder to the 'Sex' column of the training dataset\n",
    "train_titanic_data['Sex'] = encoder.fit_transform(train_titanic_data['Sex'])\n",
    "\n",
    "# Apply the encoder to the 'Sex' column of the validation dataset\n",
    "validation_titanic_data['Sex'] = encoder.fit_transform(validation_titanic_data['Sex'])"
   ]
  },
  {
   "cell_type": "code",
   "execution_count": 6,
   "id": "d18b3cd2",
   "metadata": {
    "execution": {
     "iopub.execute_input": "2024-12-08T09:23:51.858645Z",
     "iopub.status.busy": "2024-12-08T09:23:51.858227Z",
     "iopub.status.idle": "2024-12-08T09:23:51.892339Z",
     "shell.execute_reply": "2024-12-08T09:23:51.891239Z"
    },
    "papermill": {
     "duration": 0.041596,
     "end_time": "2024-12-08T09:23:51.894725",
     "exception": false,
     "start_time": "2024-12-08T09:23:51.853129",
     "status": "completed"
    },
    "tags": []
   },
   "outputs": [],
   "source": [
    "# Replace 'NaN' values in the 'Age' column\n",
    "\n",
    "# Compute the mean age for each passenger class for the training dataset\n",
    "mean_age_train = train_titanic_data.groupby('Pclass')['Age'].mean()\n",
    "\n",
    "# Compute the mean age for each passenger class for the validation dataset\n",
    "mean_age_validation = validation_titanic_data.groupby('Pclass')['Age'].mean()\n",
    "\n",
    "# Replace 'NaN' values by the mean computed above, depending on passenger class in the training dataset\n",
    "train_titanic_data['Age'] = train_titanic_data.apply(\n",
    "    lambda row: mean_age_train[row['Pclass']] if pd.isna(row['Age']) else row['Age'], axis = 1)\n",
    "\n",
    "# Replace 'NaN' values by the mean computed above, depending on passenger class in the validation dataset\n",
    "validation_titanic_data['Age'] = validation_titanic_data.apply(\n",
    "    lambda row: mean_age_validation[row['Pclass']] if pd.isna(row['Age']) else row['Age'], axis = 1)"
   ]
  },
  {
   "cell_type": "code",
   "execution_count": 7,
   "id": "7c1caa2f",
   "metadata": {
    "execution": {
     "iopub.execute_input": "2024-12-08T09:23:51.903755Z",
     "iopub.status.busy": "2024-12-08T09:23:51.903371Z",
     "iopub.status.idle": "2024-12-08T09:23:51.908314Z",
     "shell.execute_reply": "2024-12-08T09:23:51.907258Z"
    },
    "papermill": {
     "duration": 0.012353,
     "end_time": "2024-12-08T09:23:51.910730",
     "exception": false,
     "start_time": "2024-12-08T09:23:51.898377",
     "status": "completed"
    },
    "tags": []
   },
   "outputs": [],
   "source": [
    "# Set up the features\n",
    "features = ['Pclass', 'Sex', 'Age']"
   ]
  },
  {
   "cell_type": "code",
   "execution_count": 8,
   "id": "7813d7df",
   "metadata": {
    "execution": {
     "iopub.execute_input": "2024-12-08T09:23:51.920994Z",
     "iopub.status.busy": "2024-12-08T09:23:51.920587Z",
     "iopub.status.idle": "2024-12-08T09:23:51.929977Z",
     "shell.execute_reply": "2024-12-08T09:23:51.928752Z"
    },
    "papermill": {
     "duration": 0.016377,
     "end_time": "2024-12-08T09:23:51.932041",
     "exception": false,
     "start_time": "2024-12-08T09:23:51.915664",
     "status": "completed"
    },
    "tags": []
   },
   "outputs": [],
   "source": [
    "# Set up the independent variable\n",
    "independent_variable = train_titanic_data[features]"
   ]
  },
  {
   "cell_type": "code",
   "execution_count": 9,
   "id": "2fc4343a",
   "metadata": {
    "execution": {
     "iopub.execute_input": "2024-12-08T09:23:51.940786Z",
     "iopub.status.busy": "2024-12-08T09:23:51.940410Z",
     "iopub.status.idle": "2024-12-08T09:23:51.945735Z",
     "shell.execute_reply": "2024-12-08T09:23:51.944639Z"
    },
    "papermill": {
     "duration": 0.012294,
     "end_time": "2024-12-08T09:23:51.947876",
     "exception": false,
     "start_time": "2024-12-08T09:23:51.935582",
     "status": "completed"
    },
    "tags": []
   },
   "outputs": [],
   "source": [
    "# Specify the model and set the random seed to get the same results every run\n",
    "titanic_model = RandomForestClassifier(n_estimators = 50, max_depth = 5)"
   ]
  },
  {
   "cell_type": "code",
   "execution_count": 10,
   "id": "b89b21bc",
   "metadata": {
    "execution": {
     "iopub.execute_input": "2024-12-08T09:23:51.956574Z",
     "iopub.status.busy": "2024-12-08T09:23:51.956196Z",
     "iopub.status.idle": "2024-12-08T09:23:52.059828Z",
     "shell.execute_reply": "2024-12-08T09:23:52.058429Z"
    },
    "papermill": {
     "duration": 0.11097,
     "end_time": "2024-12-08T09:23:52.062464",
     "exception": false,
     "start_time": "2024-12-08T09:23:51.951494",
     "status": "completed"
    },
    "tags": []
   },
   "outputs": [
    {
     "data": {
      "text/html": [
       "<style>#sk-container-id-1 {color: black;background-color: white;}#sk-container-id-1 pre{padding: 0;}#sk-container-id-1 div.sk-toggleable {background-color: white;}#sk-container-id-1 label.sk-toggleable__label {cursor: pointer;display: block;width: 100%;margin-bottom: 0;padding: 0.3em;box-sizing: border-box;text-align: center;}#sk-container-id-1 label.sk-toggleable__label-arrow:before {content: \"▸\";float: left;margin-right: 0.25em;color: #696969;}#sk-container-id-1 label.sk-toggleable__label-arrow:hover:before {color: black;}#sk-container-id-1 div.sk-estimator:hover label.sk-toggleable__label-arrow:before {color: black;}#sk-container-id-1 div.sk-toggleable__content {max-height: 0;max-width: 0;overflow: hidden;text-align: left;background-color: #f0f8ff;}#sk-container-id-1 div.sk-toggleable__content pre {margin: 0.2em;color: black;border-radius: 0.25em;background-color: #f0f8ff;}#sk-container-id-1 input.sk-toggleable__control:checked~div.sk-toggleable__content {max-height: 200px;max-width: 100%;overflow: auto;}#sk-container-id-1 input.sk-toggleable__control:checked~label.sk-toggleable__label-arrow:before {content: \"▾\";}#sk-container-id-1 div.sk-estimator input.sk-toggleable__control:checked~label.sk-toggleable__label {background-color: #d4ebff;}#sk-container-id-1 div.sk-label input.sk-toggleable__control:checked~label.sk-toggleable__label {background-color: #d4ebff;}#sk-container-id-1 input.sk-hidden--visually {border: 0;clip: rect(1px 1px 1px 1px);clip: rect(1px, 1px, 1px, 1px);height: 1px;margin: -1px;overflow: hidden;padding: 0;position: absolute;width: 1px;}#sk-container-id-1 div.sk-estimator {font-family: monospace;background-color: #f0f8ff;border: 1px dotted black;border-radius: 0.25em;box-sizing: border-box;margin-bottom: 0.5em;}#sk-container-id-1 div.sk-estimator:hover {background-color: #d4ebff;}#sk-container-id-1 div.sk-parallel-item::after {content: \"\";width: 100%;border-bottom: 1px solid gray;flex-grow: 1;}#sk-container-id-1 div.sk-label:hover label.sk-toggleable__label {background-color: #d4ebff;}#sk-container-id-1 div.sk-serial::before {content: \"\";position: absolute;border-left: 1px solid gray;box-sizing: border-box;top: 0;bottom: 0;left: 50%;z-index: 0;}#sk-container-id-1 div.sk-serial {display: flex;flex-direction: column;align-items: center;background-color: white;padding-right: 0.2em;padding-left: 0.2em;position: relative;}#sk-container-id-1 div.sk-item {position: relative;z-index: 1;}#sk-container-id-1 div.sk-parallel {display: flex;align-items: stretch;justify-content: center;background-color: white;position: relative;}#sk-container-id-1 div.sk-item::before, #sk-container-id-1 div.sk-parallel-item::before {content: \"\";position: absolute;border-left: 1px solid gray;box-sizing: border-box;top: 0;bottom: 0;left: 50%;z-index: -1;}#sk-container-id-1 div.sk-parallel-item {display: flex;flex-direction: column;z-index: 1;position: relative;background-color: white;}#sk-container-id-1 div.sk-parallel-item:first-child::after {align-self: flex-end;width: 50%;}#sk-container-id-1 div.sk-parallel-item:last-child::after {align-self: flex-start;width: 50%;}#sk-container-id-1 div.sk-parallel-item:only-child::after {width: 0;}#sk-container-id-1 div.sk-dashed-wrapped {border: 1px dashed gray;margin: 0 0.4em 0.5em 0.4em;box-sizing: border-box;padding-bottom: 0.4em;background-color: white;}#sk-container-id-1 div.sk-label label {font-family: monospace;font-weight: bold;display: inline-block;line-height: 1.2em;}#sk-container-id-1 div.sk-label-container {text-align: center;}#sk-container-id-1 div.sk-container {/* jupyter's `normalize.less` sets `[hidden] { display: none; }` but bootstrap.min.css set `[hidden] { display: none !important; }` so we also need the `!important` here to be able to override the default hidden behavior on the sphinx rendered scikit-learn.org. See: https://github.com/scikit-learn/scikit-learn/issues/21755 */display: inline-block !important;position: relative;}#sk-container-id-1 div.sk-text-repr-fallback {display: none;}</style><div id=\"sk-container-id-1\" class=\"sk-top-container\"><div class=\"sk-text-repr-fallback\"><pre>RandomForestClassifier(max_depth=5, n_estimators=50)</pre><b>In a Jupyter environment, please rerun this cell to show the HTML representation or trust the notebook. <br />On GitHub, the HTML representation is unable to render, please try loading this page with nbviewer.org.</b></div><div class=\"sk-container\" hidden><div class=\"sk-item\"><div class=\"sk-estimator sk-toggleable\"><input class=\"sk-toggleable__control sk-hidden--visually\" id=\"sk-estimator-id-1\" type=\"checkbox\" checked><label for=\"sk-estimator-id-1\" class=\"sk-toggleable__label sk-toggleable__label-arrow\">RandomForestClassifier</label><div class=\"sk-toggleable__content\"><pre>RandomForestClassifier(max_depth=5, n_estimators=50)</pre></div></div></div></div></div>"
      ],
      "text/plain": [
       "RandomForestClassifier(max_depth=5, n_estimators=50)"
      ]
     },
     "execution_count": 10,
     "metadata": {},
     "output_type": "execute_result"
    }
   ],
   "source": [
    "# Fit the model\n",
    "titanic_model.fit(independent_variable, target_variable)"
   ]
  },
  {
   "cell_type": "code",
   "execution_count": 11,
   "id": "9cf7a6be",
   "metadata": {
    "execution": {
     "iopub.execute_input": "2024-12-08T09:23:52.072000Z",
     "iopub.status.busy": "2024-12-08T09:23:52.071599Z",
     "iopub.status.idle": "2024-12-08T09:23:52.087382Z",
     "shell.execute_reply": "2024-12-08T09:23:52.086085Z"
    },
    "papermill": {
     "duration": 0.0238,
     "end_time": "2024-12-08T09:23:52.090348",
     "exception": false,
     "start_time": "2024-12-08T09:23:52.066548",
     "status": "completed"
    },
    "tags": []
   },
   "outputs": [],
   "source": [
    "# Predict survivability\n",
    "prediction = titanic_model.predict(independent_variable)"
   ]
  },
  {
   "cell_type": "code",
   "execution_count": 12,
   "id": "d9e24511",
   "metadata": {
    "execution": {
     "iopub.execute_input": "2024-12-08T09:23:52.100243Z",
     "iopub.status.busy": "2024-12-08T09:23:52.099807Z",
     "iopub.status.idle": "2024-12-08T09:23:52.105912Z",
     "shell.execute_reply": "2024-12-08T09:23:52.104733Z"
    },
    "papermill": {
     "duration": 0.013348,
     "end_time": "2024-12-08T09:23:52.108064",
     "exception": false,
     "start_time": "2024-12-08T09:23:52.094716",
     "status": "completed"
    },
    "tags": []
   },
   "outputs": [],
   "source": [
    "# Set up the independent variable for the test dataset\n",
    "test_independent_variable = validation_titanic_data[features]"
   ]
  },
  {
   "cell_type": "code",
   "execution_count": 13,
   "id": "d0548e4f",
   "metadata": {
    "execution": {
     "iopub.execute_input": "2024-12-08T09:23:52.118000Z",
     "iopub.status.busy": "2024-12-08T09:23:52.117045Z",
     "iopub.status.idle": "2024-12-08T09:23:52.129758Z",
     "shell.execute_reply": "2024-12-08T09:23:52.128616Z"
    },
    "papermill": {
     "duration": 0.021854,
     "end_time": "2024-12-08T09:23:52.133985",
     "exception": false,
     "start_time": "2024-12-08T09:23:52.112131",
     "status": "completed"
    },
    "tags": []
   },
   "outputs": [],
   "source": [
    "# Make a prediction for survivability on the validation data\n",
    "validation_prediction = titanic_model.predict(test_independent_variable)\n",
    "\n",
    "validation_prediction = validation_prediction.round(0).astype(int)"
   ]
  },
  {
   "cell_type": "code",
   "execution_count": 14,
   "id": "4dd74aba",
   "metadata": {
    "execution": {
     "iopub.execute_input": "2024-12-08T09:23:52.143618Z",
     "iopub.status.busy": "2024-12-08T09:23:52.143234Z",
     "iopub.status.idle": "2024-12-08T09:23:52.154482Z",
     "shell.execute_reply": "2024-12-08T09:23:52.153266Z"
    },
    "papermill": {
     "duration": 0.018878,
     "end_time": "2024-12-08T09:23:52.156940",
     "exception": false,
     "start_time": "2024-12-08T09:23:52.138062",
     "status": "completed"
    },
    "tags": []
   },
   "outputs": [
    {
     "name": "stdout",
     "output_type": "stream",
     "text": [
      "Your submission was successfully saved!\n"
     ]
    }
   ],
   "source": [
    "output = pd.DataFrame({'PassengerId': validation_titanic_data.PassengerId, 'Survived': validation_prediction})\n",
    "output.to_csv('submission.csv', index = False)\n",
    "print(\"Your submission was successfully saved!\")"
   ]
  }
 ],
 "metadata": {
  "kaggle": {
   "accelerator": "none",
   "dataSources": [
    {
     "datasetId": 6249347,
     "sourceId": 10126863,
     "sourceType": "datasetVersion"
    }
   ],
   "dockerImageVersionId": 30804,
   "isGpuEnabled": false,
   "isInternetEnabled": true,
   "language": "python",
   "sourceType": "notebook"
  },
  "kernelspec": {
   "display_name": "Python 3",
   "language": "python",
   "name": "python3"
  },
  "language_info": {
   "codemirror_mode": {
    "name": "ipython",
    "version": 3
   },
   "file_extension": ".py",
   "mimetype": "text/x-python",
   "name": "python",
   "nbconvert_exporter": "python",
   "pygments_lexer": "ipython3",
   "version": "3.10.14"
  },
  "papermill": {
   "default_parameters": {},
   "duration": 6.763246,
   "end_time": "2024-12-08T09:23:52.782873",
   "environment_variables": {},
   "exception": null,
   "input_path": "__notebook__.ipynb",
   "output_path": "__notebook__.ipynb",
   "parameters": {},
   "start_time": "2024-12-08T09:23:46.019627",
   "version": "2.6.0"
  }
 },
 "nbformat": 4,
 "nbformat_minor": 5
}
